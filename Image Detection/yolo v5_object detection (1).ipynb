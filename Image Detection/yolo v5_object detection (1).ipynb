{
 "cells": [
  {
   "cell_type": "markdown",
   "id": "956ca4b2",
   "metadata": {},
   "source": [
    "https://towardsdatascience.com/how-to-detect-objects-with-your-webcam-82693c47bd8\n",
    "\n",
    "https://github.com/opencv/opencv/wiki/TensorFlow-Object-Detection-API\n",
    "\n",
    "https://www.youtube.com/watch?v=RFqvTmEFtOE \n",
    "\n",
    "https://github.com/ultralytics/yolov5"
   ]
  },
  {
   "cell_type": "code",
   "execution_count": 27,
   "id": "0fe946fa",
   "metadata": {},
   "outputs": [],
   "source": [
    "import torch\n",
    "import yolov5\n",
    "import matplotlib.pyplot as plt\n",
    "%matplotlib inline\n",
    "from PIL import ImageGrab\n",
    "import torch\n",
    "import cv2\n",
    "from imageai import Detection"
   ]
  },
  {
   "cell_type": "markdown",
   "id": "c85b1225",
   "metadata": {},
   "source": [
    "##  Yolov5 image detection"
   ]
  },
  {
   "cell_type": "code",
   "execution_count": 28,
   "id": "f76c0840",
   "metadata": {},
   "outputs": [],
   "source": [
    "\n",
    "\n",
    "# model\n",
    "path=\"C:/Users/hotaha/Downloads\"\n",
    "model = yolov5.load('yolov5s.pt')\n",
    "\n",
    "\n",
    "\n",
    "imgfile = \"C:/Users/hotaha/OneDrive - dormakaba Group/Desktop/EDGE/Modele/street 1.jpg\"\n",
    "\n",
    "\n",
    "\n",
    "img=imgfile\n",
    "results = model(img)\n",
    "\n",
    "# inference with larger input size\n",
    "results = model(img, size=1280)\n",
    "\n",
    "# inference with test time augmentation\n",
    "results = model(img, augment=True)\n",
    "\n",
    "# show results\n",
    "results.show()\n",
    "\n"
   ]
  },
  {
   "cell_type": "markdown",
   "id": "9f3745e9",
   "metadata": {},
   "source": [
    "## detect a second picture"
   ]
  },
  {
   "cell_type": "code",
   "execution_count": 29,
   "id": "83232b5c",
   "metadata": {},
   "outputs": [],
   "source": [
    "\n",
    "\n",
    "imgfile = \"C:/Users/hotaha/OneDrive - dormakaba Group/Desktop/EDGE/Modele/street 2.jpg\"\n",
    "\n",
    "\n",
    "\n",
    "img=imgfile\n",
    "results = model(img)\n",
    "\n",
    "# inference with larger input size\n",
    "results = model(img, size=1280)\n",
    "\n",
    "# inference with test time augmentation\n",
    "results = model(img, augment=True)\n",
    "\n",
    "# show results\n",
    "results.show()\n",
    "\n"
   ]
  },
  {
   "cell_type": "code",
   "execution_count": null,
   "id": "9e2563a3",
   "metadata": {},
   "outputs": [],
   "source": []
  }
 ],
 "metadata": {
  "kernelspec": {
   "display_name": "Python 3",
   "language": "python",
   "name": "python3"
  },
  "language_info": {
   "codemirror_mode": {
    "name": "ipython",
    "version": 3
   },
   "file_extension": ".py",
   "mimetype": "text/x-python",
   "name": "python",
   "nbconvert_exporter": "python",
   "pygments_lexer": "ipython3",
   "version": "3.8.8"
  }
 },
 "nbformat": 4,
 "nbformat_minor": 5
}
