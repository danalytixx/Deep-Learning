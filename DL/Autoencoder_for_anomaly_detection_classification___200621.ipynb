{
  "nbformat": 4,
  "nbformat_minor": 0,
  "metadata": {
    "colab": {
      "name": "Autoencoder for anomaly detection classification _ 200621.ipynb",
      "provenance": [],
      "collapsed_sections": []
    },
    "kernelspec": {
      "name": "python3",
      "display_name": "Python 3"
    },
    "language_info": {
      "name": "python"
    }
  },
  "cells": [
    {
      "cell_type": "markdown",
      "metadata": {
        "id": "47L6RMBZ5-s2"
      },
      "source": [
        "# Autoencoder in Fraud - classification\n",
        "\n",
        "https://www.analyticsvidhya.com/blog/2021/05/anomaly-detection-using-autoencoders-a-walk-through-in-python/\n",
        "https://towardsdatascience.com/anomaly-detection-with-autoencoder-b4cdce4866a6"
      ]
    },
    {
      "cell_type": "code",
      "metadata": {
        "id": "hHZMRxZmigrL"
      },
      "source": [
        "\n",
        "import numpy as np\n",
        "import pandas as pd\n",
        "import matplotlib as plt\n",
        "import matplotlib.pyplot as plt\n",
        "import tensorflow as tf\n",
        "from sklearn.preprocessing import LabelEncoder, OneHotEncoder\n",
        "from collections import Counter\n",
        "from sklearn.datasets import make_classification\n",
        "from imblearn.over_sampling import SMOTE\n",
        "import numpy as np\n",
        "from tensorflow.python.keras.layers import LayerNormalization\n",
        "from keras.layers import LSTM, Dense,Flatten, Dropout, Activation, Conv1D, Conv2D, ReLU , CategoryEncoding \n",
        "from tensorflow.keras.layers.experimental import preprocessing\n",
        "from sklearn.utils import resample\n",
        "from keras import optimizers\n",
        "from sklearn.model_selection import train_test_split\n",
        "from matplotlib import colors\n",
        "from matplotlib.ticker import PercentFormatter\n",
        "from sklearn import datasets\n",
        "%matplotlib inline\n",
        "import matplotlib.pyplot as plt\n",
        "plt.style.use('seaborn-whitegrid')\n",
        "import numpy as np\n",
        "import imblearn\n",
        "from keras.layers import BatchNormalization\n",
        "from sklearn.preprocessing import LabelEncoder\n",
        "#from autokeras import StructuredDataClassifier\n",
        "from sklearn.feature_selection import SelectKBest\n",
        "from sklearn.feature_selection import chi2\n",
        "from keras.models import Sequential\n",
        "from keras.layers import Dense\n",
        "import seaborn as sns\n",
        "from sklearn.metrics import accuracy_score\n",
        "get_ipython().run_line_magic('matplotlib', 'inline')\n",
        "from sklearn import preprocessing\n",
        "from tensorflow import keras\n",
        "from tensorflow.keras import layers\n",
        "from sklearn import preprocessing\n",
        "\n",
        "from sklearn.preprocessing import StandardScaler\n",
        "\n",
        "\n",
        "\n",
        "\n",
        "\n"
      ],
      "execution_count": 85,
      "outputs": []
    },
    {
      "cell_type": "markdown",
      "metadata": {
        "id": "BbPKvf3VEDib"
      },
      "source": [
        "<img src='https://406167-1278791-raikfcquaxqncofqfm.stackpathdns.com/wp-content/uploads/2021/04/What-is-an-Outlier.jpg' >\n"
      ]
    },
    {
      "cell_type": "markdown",
      "metadata": {
        "id": "rLduDkfRRfwA"
      },
      "source": [
        "## import the data"
      ]
    },
    {
      "cell_type": "code",
      "metadata": {
        "id": "LiXyvfk5RePj",
        "colab": {
          "base_uri": "https://localhost:8080/",
          "height": 253
        },
        "outputId": "8af57321-b47f-4328-aef2-e6e6c3f1dcfe"
      },
      "source": [
        "\n",
        "\n",
        "\n",
        "\n",
        "path= 'http://storage.googleapis.com/download.tensorflow.org/data/ecg.csv'\n",
        "\n",
        "#Importing traing data\n",
        "\n",
        "\n",
        "dataset = pd.read_csv(path,header=None)\n",
        "\n",
        "\n",
        "\n",
        "# last column is the target\n",
        "# 0 = anomaly, 1 = normal\n",
        "TARGET = 140\n",
        "\n",
        "xx1= 8\n",
        "xx2= 3\n",
        "\n",
        "xx1 = dataset[xx1]\n",
        "xx2 = dataset[xx2]\n",
        "\n",
        "X = dataset.drop(TARGET, axis=1)\n",
        "y = dataset[TARGET]\n",
        "\n",
        "dataset.head()"
      ],
      "execution_count": 145,
      "outputs": [
        {
          "output_type": "execute_result",
          "data": {
            "text/html": [
              "<div>\n",
              "<style scoped>\n",
              "    .dataframe tbody tr th:only-of-type {\n",
              "        vertical-align: middle;\n",
              "    }\n",
              "\n",
              "    .dataframe tbody tr th {\n",
              "        vertical-align: top;\n",
              "    }\n",
              "\n",
              "    .dataframe thead th {\n",
              "        text-align: right;\n",
              "    }\n",
              "</style>\n",
              "<table border=\"1\" class=\"dataframe\">\n",
              "  <thead>\n",
              "    <tr style=\"text-align: right;\">\n",
              "      <th></th>\n",
              "      <th>0</th>\n",
              "      <th>1</th>\n",
              "      <th>2</th>\n",
              "      <th>3</th>\n",
              "      <th>4</th>\n",
              "      <th>5</th>\n",
              "      <th>6</th>\n",
              "      <th>7</th>\n",
              "      <th>8</th>\n",
              "      <th>9</th>\n",
              "      <th>10</th>\n",
              "      <th>11</th>\n",
              "      <th>12</th>\n",
              "      <th>13</th>\n",
              "      <th>14</th>\n",
              "      <th>15</th>\n",
              "      <th>16</th>\n",
              "      <th>17</th>\n",
              "      <th>18</th>\n",
              "      <th>19</th>\n",
              "      <th>20</th>\n",
              "      <th>21</th>\n",
              "      <th>22</th>\n",
              "      <th>23</th>\n",
              "      <th>24</th>\n",
              "      <th>25</th>\n",
              "      <th>26</th>\n",
              "      <th>27</th>\n",
              "      <th>28</th>\n",
              "      <th>29</th>\n",
              "      <th>30</th>\n",
              "      <th>31</th>\n",
              "      <th>32</th>\n",
              "      <th>33</th>\n",
              "      <th>34</th>\n",
              "      <th>35</th>\n",
              "      <th>36</th>\n",
              "      <th>37</th>\n",
              "      <th>38</th>\n",
              "      <th>39</th>\n",
              "      <th>...</th>\n",
              "      <th>101</th>\n",
              "      <th>102</th>\n",
              "      <th>103</th>\n",
              "      <th>104</th>\n",
              "      <th>105</th>\n",
              "      <th>106</th>\n",
              "      <th>107</th>\n",
              "      <th>108</th>\n",
              "      <th>109</th>\n",
              "      <th>110</th>\n",
              "      <th>111</th>\n",
              "      <th>112</th>\n",
              "      <th>113</th>\n",
              "      <th>114</th>\n",
              "      <th>115</th>\n",
              "      <th>116</th>\n",
              "      <th>117</th>\n",
              "      <th>118</th>\n",
              "      <th>119</th>\n",
              "      <th>120</th>\n",
              "      <th>121</th>\n",
              "      <th>122</th>\n",
              "      <th>123</th>\n",
              "      <th>124</th>\n",
              "      <th>125</th>\n",
              "      <th>126</th>\n",
              "      <th>127</th>\n",
              "      <th>128</th>\n",
              "      <th>129</th>\n",
              "      <th>130</th>\n",
              "      <th>131</th>\n",
              "      <th>132</th>\n",
              "      <th>133</th>\n",
              "      <th>134</th>\n",
              "      <th>135</th>\n",
              "      <th>136</th>\n",
              "      <th>137</th>\n",
              "      <th>138</th>\n",
              "      <th>139</th>\n",
              "      <th>140</th>\n",
              "    </tr>\n",
              "  </thead>\n",
              "  <tbody>\n",
              "    <tr>\n",
              "      <th>0</th>\n",
              "      <td>-0.112522</td>\n",
              "      <td>-2.827204</td>\n",
              "      <td>-3.773897</td>\n",
              "      <td>-4.349751</td>\n",
              "      <td>-4.376041</td>\n",
              "      <td>-3.474986</td>\n",
              "      <td>-2.181408</td>\n",
              "      <td>-1.818287</td>\n",
              "      <td>-1.250522</td>\n",
              "      <td>-0.477492</td>\n",
              "      <td>-0.363808</td>\n",
              "      <td>-0.491957</td>\n",
              "      <td>-0.421855</td>\n",
              "      <td>-0.309201</td>\n",
              "      <td>-0.495939</td>\n",
              "      <td>-0.342119</td>\n",
              "      <td>-0.355336</td>\n",
              "      <td>-0.367913</td>\n",
              "      <td>-0.316503</td>\n",
              "      <td>-0.412374</td>\n",
              "      <td>-0.471672</td>\n",
              "      <td>-0.413458</td>\n",
              "      <td>-0.364617</td>\n",
              "      <td>-0.449298</td>\n",
              "      <td>-0.471419</td>\n",
              "      <td>-0.424777</td>\n",
              "      <td>-0.462517</td>\n",
              "      <td>-0.552472</td>\n",
              "      <td>-0.475375</td>\n",
              "      <td>-0.694200</td>\n",
              "      <td>-0.701868</td>\n",
              "      <td>-0.593812</td>\n",
              "      <td>-0.660684</td>\n",
              "      <td>-0.713831</td>\n",
              "      <td>-0.769807</td>\n",
              "      <td>-0.672282</td>\n",
              "      <td>-0.653676</td>\n",
              "      <td>-0.639406</td>\n",
              "      <td>-0.559302</td>\n",
              "      <td>-0.591670</td>\n",
              "      <td>...</td>\n",
              "      <td>1.258179</td>\n",
              "      <td>1.433789</td>\n",
              "      <td>1.700533</td>\n",
              "      <td>1.999043</td>\n",
              "      <td>2.125341</td>\n",
              "      <td>1.993291</td>\n",
              "      <td>1.932246</td>\n",
              "      <td>1.797437</td>\n",
              "      <td>1.522284</td>\n",
              "      <td>1.251168</td>\n",
              "      <td>0.998730</td>\n",
              "      <td>0.483722</td>\n",
              "      <td>0.023132</td>\n",
              "      <td>-0.194914</td>\n",
              "      <td>-0.220917</td>\n",
              "      <td>-0.243737</td>\n",
              "      <td>-0.254695</td>\n",
              "      <td>-0.291136</td>\n",
              "      <td>-0.256490</td>\n",
              "      <td>-0.227874</td>\n",
              "      <td>-0.322423</td>\n",
              "      <td>-0.289286</td>\n",
              "      <td>-0.318170</td>\n",
              "      <td>-0.363654</td>\n",
              "      <td>-0.393456</td>\n",
              "      <td>-0.266419</td>\n",
              "      <td>-0.256823</td>\n",
              "      <td>-0.288694</td>\n",
              "      <td>-0.162338</td>\n",
              "      <td>0.160348</td>\n",
              "      <td>0.792168</td>\n",
              "      <td>0.933541</td>\n",
              "      <td>0.796958</td>\n",
              "      <td>0.578621</td>\n",
              "      <td>0.257740</td>\n",
              "      <td>0.228077</td>\n",
              "      <td>0.123431</td>\n",
              "      <td>0.925286</td>\n",
              "      <td>0.193137</td>\n",
              "      <td>1.0</td>\n",
              "    </tr>\n",
              "    <tr>\n",
              "      <th>1</th>\n",
              "      <td>-1.100878</td>\n",
              "      <td>-3.996840</td>\n",
              "      <td>-4.285843</td>\n",
              "      <td>-4.506579</td>\n",
              "      <td>-4.022377</td>\n",
              "      <td>-3.234368</td>\n",
              "      <td>-1.566126</td>\n",
              "      <td>-0.992258</td>\n",
              "      <td>-0.754680</td>\n",
              "      <td>0.042321</td>\n",
              "      <td>0.148951</td>\n",
              "      <td>0.183527</td>\n",
              "      <td>0.294876</td>\n",
              "      <td>0.190233</td>\n",
              "      <td>0.235575</td>\n",
              "      <td>0.253487</td>\n",
              "      <td>0.221742</td>\n",
              "      <td>0.050233</td>\n",
              "      <td>0.178042</td>\n",
              "      <td>0.139563</td>\n",
              "      <td>0.046794</td>\n",
              "      <td>0.043007</td>\n",
              "      <td>0.106544</td>\n",
              "      <td>0.012654</td>\n",
              "      <td>0.003995</td>\n",
              "      <td>0.045724</td>\n",
              "      <td>-0.045999</td>\n",
              "      <td>-0.072667</td>\n",
              "      <td>-0.071078</td>\n",
              "      <td>-0.153866</td>\n",
              "      <td>-0.227254</td>\n",
              "      <td>-0.249270</td>\n",
              "      <td>-0.253489</td>\n",
              "      <td>-0.332835</td>\n",
              "      <td>-0.264330</td>\n",
              "      <td>-0.345825</td>\n",
              "      <td>-0.310781</td>\n",
              "      <td>-0.334160</td>\n",
              "      <td>-0.306178</td>\n",
              "      <td>-0.174563</td>\n",
              "      <td>...</td>\n",
              "      <td>1.808428</td>\n",
              "      <td>2.164346</td>\n",
              "      <td>2.070747</td>\n",
              "      <td>1.903614</td>\n",
              "      <td>1.764455</td>\n",
              "      <td>1.507769</td>\n",
              "      <td>1.293428</td>\n",
              "      <td>0.894562</td>\n",
              "      <td>0.578016</td>\n",
              "      <td>0.244343</td>\n",
              "      <td>-0.286443</td>\n",
              "      <td>-0.515881</td>\n",
              "      <td>-0.732707</td>\n",
              "      <td>-0.832465</td>\n",
              "      <td>-0.803318</td>\n",
              "      <td>-0.836252</td>\n",
              "      <td>-0.777865</td>\n",
              "      <td>-0.774753</td>\n",
              "      <td>-0.733404</td>\n",
              "      <td>-0.721386</td>\n",
              "      <td>-0.832095</td>\n",
              "      <td>-0.711982</td>\n",
              "      <td>-0.751867</td>\n",
              "      <td>-0.757720</td>\n",
              "      <td>-0.853120</td>\n",
              "      <td>-0.766988</td>\n",
              "      <td>-0.688161</td>\n",
              "      <td>-0.519923</td>\n",
              "      <td>0.039406</td>\n",
              "      <td>0.560327</td>\n",
              "      <td>0.538356</td>\n",
              "      <td>0.656881</td>\n",
              "      <td>0.787490</td>\n",
              "      <td>0.724046</td>\n",
              "      <td>0.555784</td>\n",
              "      <td>0.476333</td>\n",
              "      <td>0.773820</td>\n",
              "      <td>1.119621</td>\n",
              "      <td>-1.436250</td>\n",
              "      <td>1.0</td>\n",
              "    </tr>\n",
              "    <tr>\n",
              "      <th>2</th>\n",
              "      <td>-0.567088</td>\n",
              "      <td>-2.593450</td>\n",
              "      <td>-3.874230</td>\n",
              "      <td>-4.584095</td>\n",
              "      <td>-4.187449</td>\n",
              "      <td>-3.151462</td>\n",
              "      <td>-1.742940</td>\n",
              "      <td>-1.490658</td>\n",
              "      <td>-1.183580</td>\n",
              "      <td>-0.394229</td>\n",
              "      <td>-0.282897</td>\n",
              "      <td>-0.356926</td>\n",
              "      <td>-0.287297</td>\n",
              "      <td>-0.399489</td>\n",
              "      <td>-0.473244</td>\n",
              "      <td>-0.379048</td>\n",
              "      <td>-0.399039</td>\n",
              "      <td>-0.178594</td>\n",
              "      <td>-0.339522</td>\n",
              "      <td>-0.498447</td>\n",
              "      <td>-0.337251</td>\n",
              "      <td>-0.425480</td>\n",
              "      <td>-0.423952</td>\n",
              "      <td>-0.463170</td>\n",
              "      <td>-0.493253</td>\n",
              "      <td>-0.549749</td>\n",
              "      <td>-0.529831</td>\n",
              "      <td>-0.530935</td>\n",
              "      <td>-0.502365</td>\n",
              "      <td>-0.417368</td>\n",
              "      <td>-0.526346</td>\n",
              "      <td>-0.471005</td>\n",
              "      <td>-0.676784</td>\n",
              "      <td>-0.898612</td>\n",
              "      <td>-0.610571</td>\n",
              "      <td>-0.530164</td>\n",
              "      <td>-0.765674</td>\n",
              "      <td>-0.581937</td>\n",
              "      <td>-0.537848</td>\n",
              "      <td>-0.556386</td>\n",
              "      <td>...</td>\n",
              "      <td>1.810988</td>\n",
              "      <td>2.185398</td>\n",
              "      <td>2.262985</td>\n",
              "      <td>2.052920</td>\n",
              "      <td>1.890488</td>\n",
              "      <td>1.793033</td>\n",
              "      <td>1.564784</td>\n",
              "      <td>1.234619</td>\n",
              "      <td>0.900302</td>\n",
              "      <td>0.551957</td>\n",
              "      <td>0.258222</td>\n",
              "      <td>-0.128587</td>\n",
              "      <td>-0.092585</td>\n",
              "      <td>-0.168606</td>\n",
              "      <td>-0.495989</td>\n",
              "      <td>-0.395034</td>\n",
              "      <td>-0.328238</td>\n",
              "      <td>-0.448138</td>\n",
              "      <td>-0.268230</td>\n",
              "      <td>-0.456415</td>\n",
              "      <td>-0.357867</td>\n",
              "      <td>-0.317508</td>\n",
              "      <td>-0.434112</td>\n",
              "      <td>-0.549203</td>\n",
              "      <td>-0.324615</td>\n",
              "      <td>-0.268082</td>\n",
              "      <td>-0.220384</td>\n",
              "      <td>-0.117429</td>\n",
              "      <td>0.614059</td>\n",
              "      <td>1.284825</td>\n",
              "      <td>0.886073</td>\n",
              "      <td>0.531452</td>\n",
              "      <td>0.311377</td>\n",
              "      <td>-0.021919</td>\n",
              "      <td>-0.713683</td>\n",
              "      <td>-0.532197</td>\n",
              "      <td>0.321097</td>\n",
              "      <td>0.904227</td>\n",
              "      <td>-0.421797</td>\n",
              "      <td>1.0</td>\n",
              "    </tr>\n",
              "    <tr>\n",
              "      <th>3</th>\n",
              "      <td>0.490473</td>\n",
              "      <td>-1.914407</td>\n",
              "      <td>-3.616364</td>\n",
              "      <td>-4.318823</td>\n",
              "      <td>-4.268016</td>\n",
              "      <td>-3.881110</td>\n",
              "      <td>-2.993280</td>\n",
              "      <td>-1.671131</td>\n",
              "      <td>-1.333884</td>\n",
              "      <td>-0.965629</td>\n",
              "      <td>-0.183319</td>\n",
              "      <td>-0.101657</td>\n",
              "      <td>-0.273874</td>\n",
              "      <td>-0.127818</td>\n",
              "      <td>-0.195983</td>\n",
              "      <td>-0.213523</td>\n",
              "      <td>-0.176473</td>\n",
              "      <td>-0.156932</td>\n",
              "      <td>-0.149172</td>\n",
              "      <td>-0.181510</td>\n",
              "      <td>-0.180074</td>\n",
              "      <td>-0.246151</td>\n",
              "      <td>-0.274260</td>\n",
              "      <td>-0.140960</td>\n",
              "      <td>-0.277449</td>\n",
              "      <td>-0.382549</td>\n",
              "      <td>-0.311937</td>\n",
              "      <td>-0.360093</td>\n",
              "      <td>-0.405968</td>\n",
              "      <td>-0.571433</td>\n",
              "      <td>-0.524106</td>\n",
              "      <td>-0.537886</td>\n",
              "      <td>-0.606778</td>\n",
              "      <td>-0.661446</td>\n",
              "      <td>-0.683375</td>\n",
              "      <td>-0.746683</td>\n",
              "      <td>-0.635662</td>\n",
              "      <td>-0.625231</td>\n",
              "      <td>-0.540094</td>\n",
              "      <td>-0.674995</td>\n",
              "      <td>...</td>\n",
              "      <td>1.772155</td>\n",
              "      <td>2.000769</td>\n",
              "      <td>1.925003</td>\n",
              "      <td>1.898426</td>\n",
              "      <td>1.720953</td>\n",
              "      <td>1.501711</td>\n",
              "      <td>1.422492</td>\n",
              "      <td>1.023225</td>\n",
              "      <td>0.776341</td>\n",
              "      <td>0.504426</td>\n",
              "      <td>0.056382</td>\n",
              "      <td>-0.233161</td>\n",
              "      <td>-0.406388</td>\n",
              "      <td>-0.327528</td>\n",
              "      <td>-0.460868</td>\n",
              "      <td>-0.402536</td>\n",
              "      <td>-0.345752</td>\n",
              "      <td>-0.354206</td>\n",
              "      <td>-0.439959</td>\n",
              "      <td>-0.425326</td>\n",
              "      <td>-0.439789</td>\n",
              "      <td>-0.451835</td>\n",
              "      <td>-0.395926</td>\n",
              "      <td>-0.448762</td>\n",
              "      <td>-0.391789</td>\n",
              "      <td>-0.376307</td>\n",
              "      <td>-0.461069</td>\n",
              "      <td>-0.253524</td>\n",
              "      <td>0.213006</td>\n",
              "      <td>0.491173</td>\n",
              "      <td>0.350816</td>\n",
              "      <td>0.499111</td>\n",
              "      <td>0.600345</td>\n",
              "      <td>0.842069</td>\n",
              "      <td>0.952074</td>\n",
              "      <td>0.990133</td>\n",
              "      <td>1.086798</td>\n",
              "      <td>1.403011</td>\n",
              "      <td>-0.383564</td>\n",
              "      <td>1.0</td>\n",
              "    </tr>\n",
              "    <tr>\n",
              "      <th>4</th>\n",
              "      <td>0.800232</td>\n",
              "      <td>-0.874252</td>\n",
              "      <td>-2.384761</td>\n",
              "      <td>-3.973292</td>\n",
              "      <td>-4.338224</td>\n",
              "      <td>-3.802422</td>\n",
              "      <td>-2.534510</td>\n",
              "      <td>-1.783423</td>\n",
              "      <td>-1.594450</td>\n",
              "      <td>-0.753199</td>\n",
              "      <td>-0.298107</td>\n",
              "      <td>-0.428928</td>\n",
              "      <td>-0.491351</td>\n",
              "      <td>-0.361304</td>\n",
              "      <td>-0.339296</td>\n",
              "      <td>-0.324952</td>\n",
              "      <td>-0.290113</td>\n",
              "      <td>-0.363051</td>\n",
              "      <td>-0.525684</td>\n",
              "      <td>-0.597423</td>\n",
              "      <td>-0.575523</td>\n",
              "      <td>-0.567503</td>\n",
              "      <td>-0.504555</td>\n",
              "      <td>-0.618406</td>\n",
              "      <td>-0.682814</td>\n",
              "      <td>-0.743849</td>\n",
              "      <td>-0.815588</td>\n",
              "      <td>-0.826902</td>\n",
              "      <td>-0.782374</td>\n",
              "      <td>-0.929462</td>\n",
              "      <td>-0.999672</td>\n",
              "      <td>-1.060969</td>\n",
              "      <td>-1.007877</td>\n",
              "      <td>-1.028735</td>\n",
              "      <td>-1.122629</td>\n",
              "      <td>-1.028650</td>\n",
              "      <td>-1.046515</td>\n",
              "      <td>-1.063372</td>\n",
              "      <td>-1.122423</td>\n",
              "      <td>-0.983242</td>\n",
              "      <td>...</td>\n",
              "      <td>1.155363</td>\n",
              "      <td>1.336254</td>\n",
              "      <td>1.627534</td>\n",
              "      <td>1.717594</td>\n",
              "      <td>1.696487</td>\n",
              "      <td>1.741686</td>\n",
              "      <td>1.674078</td>\n",
              "      <td>1.546928</td>\n",
              "      <td>1.331738</td>\n",
              "      <td>1.110168</td>\n",
              "      <td>0.922210</td>\n",
              "      <td>0.521777</td>\n",
              "      <td>0.154852</td>\n",
              "      <td>-0.123861</td>\n",
              "      <td>-0.202998</td>\n",
              "      <td>-0.247956</td>\n",
              "      <td>-0.219122</td>\n",
              "      <td>-0.214695</td>\n",
              "      <td>-0.319215</td>\n",
              "      <td>-0.198597</td>\n",
              "      <td>-0.151618</td>\n",
              "      <td>-0.129593</td>\n",
              "      <td>-0.074939</td>\n",
              "      <td>-0.196807</td>\n",
              "      <td>-0.174795</td>\n",
              "      <td>-0.208833</td>\n",
              "      <td>-0.210754</td>\n",
              "      <td>-0.100485</td>\n",
              "      <td>0.197446</td>\n",
              "      <td>0.966606</td>\n",
              "      <td>1.148884</td>\n",
              "      <td>0.958434</td>\n",
              "      <td>1.059025</td>\n",
              "      <td>1.371682</td>\n",
              "      <td>1.277392</td>\n",
              "      <td>0.960304</td>\n",
              "      <td>0.971020</td>\n",
              "      <td>1.614392</td>\n",
              "      <td>1.421456</td>\n",
              "      <td>1.0</td>\n",
              "    </tr>\n",
              "  </tbody>\n",
              "</table>\n",
              "<p>5 rows × 141 columns</p>\n",
              "</div>"
            ],
            "text/plain": [
              "        0         1         2         3    ...       137       138       139  140\n",
              "0 -0.112522 -2.827204 -3.773897 -4.349751  ...  0.123431  0.925286  0.193137  1.0\n",
              "1 -1.100878 -3.996840 -4.285843 -4.506579  ...  0.773820  1.119621 -1.436250  1.0\n",
              "2 -0.567088 -2.593450 -3.874230 -4.584095  ...  0.321097  0.904227 -0.421797  1.0\n",
              "3  0.490473 -1.914407 -3.616364 -4.318823  ...  1.086798  1.403011 -0.383564  1.0\n",
              "4  0.800232 -0.874252 -2.384761 -3.973292  ...  0.971020  1.614392  1.421456  1.0\n",
              "\n",
              "[5 rows x 141 columns]"
            ]
          },
          "metadata": {
            "tags": []
          },
          "execution_count": 145
        }
      ]
    },
    {
      "cell_type": "code",
      "metadata": {
        "colab": {
          "base_uri": "https://localhost:8080/"
        },
        "id": "nLadZDTyrNOQ",
        "outputId": "71a6df6c-32d2-4019-cf90-fef0c9171ce6"
      },
      "source": [
        "y.shape"
      ],
      "execution_count": 143,
      "outputs": [
        {
          "output_type": "execute_result",
          "data": {
            "text/plain": [
              "(4998,)"
            ]
          },
          "metadata": {
            "tags": []
          },
          "execution_count": 143
        }
      ]
    },
    {
      "cell_type": "code",
      "metadata": {
        "colab": {
          "base_uri": "https://localhost:8080/"
        },
        "id": "kz8szrQG_Erl",
        "outputId": "e7a44ba2-0e7d-4232-fac9-5a99d98d50ba"
      },
      "source": [
        "y.dtypes"
      ],
      "execution_count": 130,
      "outputs": [
        {
          "output_type": "execute_result",
          "data": {
            "text/plain": [
              "dtype('float64')"
            ]
          },
          "metadata": {
            "tags": []
          },
          "execution_count": 130
        }
      ]
    },
    {
      "cell_type": "markdown",
      "metadata": {
        "id": "ssPLNVaDCV3n"
      },
      "source": [
        "## plot the data"
      ]
    },
    {
      "cell_type": "code",
      "metadata": {
        "colab": {
          "base_uri": "https://localhost:8080/",
          "height": 479
        },
        "id": "Khb9yn5I9A1Y",
        "outputId": "72d96a5b-22d8-4123-efba-781cba69406d"
      },
      "source": [
        "\n",
        "plt.figure(figsize=(8, 8))\n",
        "\n",
        "plt.scatter(xx1[y==1], xx2[y==1] , c=\"red\", cmap=\"plasma\",alpha=0.3, label='fraud')\n",
        "plt.scatter(xx1[y==0], xx2[y==0] , c='green', cmap=\"plasma\",alpha=0.3, label='normal')\n",
        "plt.legend()\n",
        "plt.show()"
      ],
      "execution_count": 144,
      "outputs": [
        {
          "output_type": "display_data",
          "data": {
            "image/png": "[encoded data removed]",
            "text/plain": [
              "<Figure size 576x576 with 1 Axes>"
            ]
          },
          "metadata": {
            "tags": [],
            "needs_background": "light"
          }
        }
      ]
    },
    {
      "cell_type": "markdown",
      "metadata": {
        "id": "fktayipb8Qwm"
      },
      "source": [
        "## one hot encoding the target to 1 or 0"
      ]
    },
    {
      "cell_type": "code",
      "metadata": {
        "id": "Br8_ie2W7zxG"
      },
      "source": [
        "\n",
        "from numpy import array\n",
        "from numpy import argmax\n",
        "from sklearn.preprocessing import LabelEncoder\n",
        "from sklearn.preprocessing import OneHotEncoder\n",
        "# define example\n",
        "\n",
        "# integer encode\n",
        "#label_encoder = LabelEncoder()\n",
        "#y_encoded = label_encoder.fit_transform(y)\n",
        "#print(y_encoded)\n",
        "\n",
        "\n",
        "#y_pd=pd.DataFrame(y_encoded)\n",
        "#y_pd"
      ],
      "execution_count": 13,
      "outputs": []
    },
    {
      "cell_type": "code",
      "metadata": {
        "colab": {
          "base_uri": "https://localhost:8080/"
        },
        "id": "tam5tYpL2DVu",
        "outputId": "c7c6a188-3efb-4811-f5eb-3ba27ca97330"
      },
      "source": [
        "\n",
        "# scaling and standardizing\n",
        "\n",
        "scaler = preprocessing.StandardScaler().fit(X)\n",
        "\n",
        "\n",
        "X_scaled = scaler.transform(X)\n",
        "X_scaled\n"
      ],
      "execution_count": 35,
      "outputs": [
        {
          "output_type": "execute_result",
          "data": {
            "text/plain": [
              "array([[ 0.13015314, -0.81456844, -0.92422829, ...,  0.41209124,\n",
              "         0.77172417,  0.63616554],\n",
              "       [-0.72754575, -1.62378238, -1.29351275, ...,  0.76190873,\n",
              "         0.87786548, -0.51593741],\n",
              "       [-0.26432105, -0.65284576, -0.99660187, ...,  0.51840757,\n",
              "         0.76022193,  0.2013596 ],\n",
              "       ...,\n",
              "       [-0.74671683, -0.4172529 , -0.27050469, ..., -1.20017695,\n",
              "        -0.83057384, -0.77902953],\n",
              "       [-0.24750005, -0.16584826, -0.25041586, ...,  1.0241232 ,\n",
              "         0.89470289,  1.06875185],\n",
              "       [-0.9452788 , -0.38686749, -0.01991038, ..., -0.86987066,\n",
              "        -0.59541889,  0.01558609]])"
            ]
          },
          "metadata": {
            "tags": []
          },
          "execution_count": 35
        }
      ]
    },
    {
      "cell_type": "code",
      "metadata": {
        "id": "9y4eU1i-WKxy"
      },
      "source": [
        "\n",
        "\n",
        "\n",
        "# Split the data up in train and test sets\n",
        "\n",
        "X_train, X_test, y_train, y_test = train_test_split(X_scaled, y, test_size=0.3, random_state=0)\n"
      ],
      "execution_count": 36,
      "outputs": []
    },
    {
      "cell_type": "markdown",
      "metadata": {
        "id": "SDXq9e_CRVJO"
      },
      "source": [
        "## setting early stopping"
      ]
    },
    {
      "cell_type": "code",
      "metadata": {
        "id": "2c5RwMmjNB8H"
      },
      "source": [
        "# define callbacks early stopping\n",
        "DESIRED_ACCURACY = 0.9999999\n",
        "\n",
        "class myCallback(tf.keras.callbacks.Callback):\n",
        "  def on_epoch_end(self, epoch, logs={}):\n",
        "    if(logs.get('accuracy') >= DESIRED_ACCURACY):\n",
        "      print(\"\\nReached 99.7% accuracy so cancelling training!\")\n",
        "      self.model.stop_training = True\n",
        "\n",
        "callbacks = myCallback()"
      ],
      "execution_count": 134,
      "outputs": []
    },
    {
      "cell_type": "code",
      "metadata": {
        "id": "-UDMSlFiNhtM"
      },
      "source": [
        "earlystop=tf.keras.callbacks.EarlyStopping(\n",
        "    monitor='val_loss', min_delta=0, patience=0, verbose=0,\n",
        "    mode='auto', baseline=None, restore_best_weights=False\n",
        ")"
      ],
      "execution_count": 135,
      "outputs": []
    },
    {
      "cell_type": "code",
      "metadata": {
        "colab": {
          "base_uri": "https://localhost:8080/"
        },
        "id": "4ghnJU1rzxYx",
        "outputId": "a58e5445-9516-4faf-bdc7-620df297562f"
      },
      "source": [
        "X_train.shape[1]\n",
        "#X_train.shape"
      ],
      "execution_count": 57,
      "outputs": [
        {
          "output_type": "execute_result",
          "data": {
            "text/plain": [
              "140"
            ]
          },
          "metadata": {
            "tags": []
          },
          "execution_count": 57
        }
      ]
    },
    {
      "cell_type": "markdown",
      "metadata": {
        "id": "2185pJrt56wc"
      },
      "source": [
        "## training the keras model"
      ]
    },
    {
      "cell_type": "code",
      "metadata": {
        "colab": {
          "base_uri": "https://localhost:8080/"
        },
        "id": "4t4ghBoxlvnD",
        "outputId": "809dfcb4-b658-4a45-b3bb-79e9e324e3cc"
      },
      "source": [
        "\n",
        "\n",
        "\n",
        "# In[33]:\n",
        "\n",
        "\n",
        "#counts, bins = np.histogram(yo)\n",
        "#plt.hist(bins[:-1], bins, weights=counts)\n",
        "\n",
        "\n",
        "# ## Training the model \n",
        "\n",
        "# In[36]:\n",
        "from tensorflow.keras.layers.experimental import preprocessing\n",
        "from keras.regularizers import l2\n",
        "\n",
        "#optionnaly set the regulation L1 or L2\n",
        "#keras.regularizers.l1_l2(l1=0.01, l2=0.01)\n",
        "\n",
        "input_dim = X_train.shape[1]\n",
        "\n",
        "# Initialize the NN \n",
        "model = Sequential()\n",
        "\n",
        "# Add input layer \n",
        "model.add(Dense(64,   input_shape=[X_train.shape[1]] , activation='relu',   kernel_initializer='he_uniform'))\n",
        "\n",
        "model.add(Dropout(0.1))\n",
        "#hidden layer\n",
        "#model.add(ReLU())\n",
        "model.add(Dense(32,  activation='relu', kernel_initializer='he_uniform'))\n",
        "model.add(Dropout(0.1))\n",
        "#model.add(LayerNormalization())\n",
        "model.add(BatchNormalization(momentum=0.99))\n",
        "\n",
        "#initializer = tf.keras.initializers.he_uniform\n",
        "#layer = tf.keras.layers.Dense(3, kernel_initializer=initializer)\n",
        "\n",
        "#model.add(Dense(4,  activation='relu',kernel_initializer=initializer,kernel_regularizer=l2(0.01), bias_regularizer=l2(0.01)))\n",
        "\n",
        "\n",
        "\n",
        "\n",
        "model.add(Dense(32,  activation='relu', kernel_initializer='he_uniform'))\n",
        "model.add(Dropout(0.1))\n",
        "model.add(Dense(64,  activation='relu', kernel_initializer='he_uniform'))\n",
        "\n",
        "#model.add(Dense(64,  activation='relu', kernel_initializer='he_normal'))\n",
        "#model.add(Dropout(0.1))\n",
        "model.add(Dropout(0.1))\n",
        "model.add(BatchNormalization(momentum=0.99))\n",
        "#model.add(ReLU())\n",
        "# Add output layer \n",
        "#model.add(Dense(input_dim, activation='relu'))\n",
        "model.add(Dense(1, activation='sigmoid'))\n",
        "#encoder = preprocessing.CategoryEncoding()\n",
        "\n",
        "opt = keras.optimizers.Adam(learning_rate=0.001)\n",
        "#opt = keras.optimizers.SGD(learning_rate=0.001, momentum=0.9)\n",
        "\n",
        "\n",
        "model.compile(loss='binary_crossentropy',\n",
        "              optimizer=opt,\n",
        "              metrics=['accuracy'])\n",
        "\n",
        "#tf.keras.models.Model(encoder)\n",
        "model.summary()\n",
        "\n",
        "\n"
      ],
      "execution_count": 69,
      "outputs": [
        {
          "output_type": "stream",
          "text": [
            "Model: \"sequential_25\"\n",
            "_________________________________________________________________\n",
            "Layer (type)                 Output Shape              Param #   \n",
            "=================================================================\n",
            "dense_77 (Dense)             (None, 64)                9024      \n",
            "_________________________________________________________________\n",
            "dropout_60 (Dropout)         (None, 64)                0         \n",
            "_________________________________________________________________\n",
            "dense_78 (Dense)             (None, 32)                2080      \n",
            "_________________________________________________________________\n",
            "dropout_61 (Dropout)         (None, 32)                0         \n",
            "_________________________________________________________________\n",
            "batch_normalization_27 (Batc (None, 32)                128       \n",
            "_________________________________________________________________\n",
            "dense_79 (Dense)             (None, 32)                1056      \n",
            "_________________________________________________________________\n",
            "dropout_62 (Dropout)         (None, 32)                0         \n",
            "_________________________________________________________________\n",
            "dense_80 (Dense)             (None, 64)                2112      \n",
            "_________________________________________________________________\n",
            "dropout_63 (Dropout)         (None, 64)                0         \n",
            "_________________________________________________________________\n",
            "batch_normalization_28 (Batc (None, 64)                256       \n",
            "_________________________________________________________________\n",
            "dense_81 (Dense)             (None, 1)                 65        \n",
            "=================================================================\n",
            "Total params: 14,721\n",
            "Trainable params: 14,529\n",
            "Non-trainable params: 192\n",
            "_________________________________________________________________\n"
          ],
          "name": "stdout"
        }
      ]
    },
    {
      "cell_type": "code",
      "metadata": {
        "id": "TF1W6b4xT7Ua",
        "colab": {
          "base_uri": "https://localhost:8080/"
        },
        "outputId": "aa732743-5e94-418f-b87e-cbf4ff3fee58"
      },
      "source": [
        "\n",
        "#train the model with shuffeling\n",
        "history=model.fit(X_train, y_train,\n",
        "                  validation_split=0.1,epochs=50, \n",
        "                  batch_size=48, verbose=1, \n",
        "                  shuffle=True, callbacks=[callbacks])\n",
        "\n",
        "\n",
        "\n",
        "\n",
        "\n",
        "# ## Evaluating the model\n",
        "\n",
        "\n",
        "\n",
        "#evaluate the model\n",
        "score = model.evaluate(X_test, y_test)\n",
        "print(score)\n",
        "\n",
        "\n"
      ],
      "execution_count": 136,
      "outputs": [
        {
          "output_type": "stream",
          "text": [
            "Epoch 1/50\n",
            "66/66 [==============================] - 0s 4ms/step - loss: 0.0144 - accuracy: 0.9978 - val_loss: 0.0915 - val_accuracy: 0.9914\n",
            "Epoch 2/50\n",
            "66/66 [==============================] - 0s 3ms/step - loss: 0.0142 - accuracy: 0.9952 - val_loss: 0.0789 - val_accuracy: 0.9886\n",
            "Epoch 3/50\n",
            "66/66 [==============================] - 0s 3ms/step - loss: 0.0174 - accuracy: 0.9952 - val_loss: 0.0897 - val_accuracy: 0.9886\n",
            "Epoch 4/50\n",
            "66/66 [==============================] - 0s 3ms/step - loss: 0.0163 - accuracy: 0.9946 - val_loss: 0.0811 - val_accuracy: 0.9914\n",
            "Epoch 5/50\n",
            "66/66 [==============================] - 0s 3ms/step - loss: 0.0148 - accuracy: 0.9962 - val_loss: 0.0650 - val_accuracy: 0.9943\n",
            "Epoch 6/50\n",
            "66/66 [==============================] - 0s 3ms/step - loss: 0.0232 - accuracy: 0.9933 - val_loss: 0.0611 - val_accuracy: 0.9886\n",
            "Epoch 7/50\n",
            "66/66 [==============================] - 0s 3ms/step - loss: 0.0132 - accuracy: 0.9962 - val_loss: 0.0675 - val_accuracy: 0.9886\n",
            "Epoch 8/50\n",
            "66/66 [==============================] - 0s 3ms/step - loss: 0.0116 - accuracy: 0.9968 - val_loss: 0.0645 - val_accuracy: 0.9886\n",
            "Epoch 9/50\n",
            "66/66 [==============================] - 0s 3ms/step - loss: 0.0090 - accuracy: 0.9984 - val_loss: 0.0765 - val_accuracy: 0.9886\n",
            "Epoch 10/50\n",
            "66/66 [==============================] - 0s 3ms/step - loss: 0.0104 - accuracy: 0.9965 - val_loss: 0.0928 - val_accuracy: 0.9886\n",
            "Epoch 11/50\n",
            "66/66 [==============================] - 0s 3ms/step - loss: 0.0126 - accuracy: 0.9962 - val_loss: 0.0577 - val_accuracy: 0.9886\n",
            "Epoch 12/50\n",
            "66/66 [==============================] - 0s 3ms/step - loss: 0.0158 - accuracy: 0.9943 - val_loss: 0.0753 - val_accuracy: 0.9886\n",
            "Epoch 13/50\n",
            "66/66 [==============================] - 0s 3ms/step - loss: 0.0108 - accuracy: 0.9968 - val_loss: 0.0667 - val_accuracy: 0.9886\n",
            "Epoch 14/50\n",
            "66/66 [==============================] - 0s 3ms/step - loss: 0.0127 - accuracy: 0.9962 - val_loss: 0.0629 - val_accuracy: 0.9886\n",
            "Epoch 15/50\n",
            "66/66 [==============================] - 0s 3ms/step - loss: 0.0109 - accuracy: 0.9971 - val_loss: 0.0700 - val_accuracy: 0.9914\n",
            "Epoch 16/50\n",
            "66/66 [==============================] - 0s 3ms/step - loss: 0.0126 - accuracy: 0.9962 - val_loss: 0.0777 - val_accuracy: 0.9886\n",
            "Epoch 17/50\n",
            "66/66 [==============================] - 0s 3ms/step - loss: 0.0106 - accuracy: 0.9952 - val_loss: 0.0644 - val_accuracy: 0.9914\n",
            "Epoch 18/50\n",
            "66/66 [==============================] - 0s 3ms/step - loss: 0.0086 - accuracy: 0.9975 - val_loss: 0.0892 - val_accuracy: 0.9886\n",
            "Epoch 19/50\n",
            "66/66 [==============================] - 0s 3ms/step - loss: 0.0082 - accuracy: 0.9978 - val_loss: 0.0679 - val_accuracy: 0.9914\n",
            "Epoch 20/50\n",
            "66/66 [==============================] - 0s 3ms/step - loss: 0.0067 - accuracy: 0.9978 - val_loss: 0.0607 - val_accuracy: 0.9943\n",
            "Epoch 21/50\n",
            "66/66 [==============================] - 0s 3ms/step - loss: 0.0117 - accuracy: 0.9975 - val_loss: 0.0671 - val_accuracy: 0.9886\n",
            "Epoch 22/50\n",
            "66/66 [==============================] - 0s 3ms/step - loss: 0.0079 - accuracy: 0.9978 - val_loss: 0.0620 - val_accuracy: 0.9914\n",
            "Epoch 23/50\n",
            "66/66 [==============================] - 0s 3ms/step - loss: 0.0103 - accuracy: 0.9978 - val_loss: 0.0855 - val_accuracy: 0.9914\n",
            "Epoch 24/50\n",
            "66/66 [==============================] - 0s 3ms/step - loss: 0.0141 - accuracy: 0.9962 - val_loss: 0.0598 - val_accuracy: 0.9914\n",
            "Epoch 25/50\n",
            "66/66 [==============================] - 0s 3ms/step - loss: 0.0096 - accuracy: 0.9971 - val_loss: 0.0713 - val_accuracy: 0.9914\n",
            "Epoch 26/50\n",
            "66/66 [==============================] - 0s 3ms/step - loss: 0.0066 - accuracy: 0.9984 - val_loss: 0.0775 - val_accuracy: 0.9914\n",
            "Epoch 27/50\n",
            "66/66 [==============================] - 0s 3ms/step - loss: 0.0085 - accuracy: 0.9962 - val_loss: 0.0759 - val_accuracy: 0.9914\n",
            "Epoch 28/50\n",
            "66/66 [==============================] - 0s 3ms/step - loss: 0.0074 - accuracy: 0.9984 - val_loss: 0.1209 - val_accuracy: 0.9914\n",
            "Epoch 29/50\n",
            "66/66 [==============================] - 0s 3ms/step - loss: 0.0103 - accuracy: 0.9978 - val_loss: 0.0973 - val_accuracy: 0.9914\n",
            "Epoch 30/50\n",
            "66/66 [==============================] - 0s 3ms/step - loss: 0.0102 - accuracy: 0.9975 - val_loss: 0.0938 - val_accuracy: 0.9886\n",
            "Epoch 31/50\n",
            "66/66 [==============================] - 0s 3ms/step - loss: 0.0067 - accuracy: 0.9981 - val_loss: 0.1004 - val_accuracy: 0.9886\n",
            "Epoch 32/50\n",
            "66/66 [==============================] - 0s 3ms/step - loss: 0.0095 - accuracy: 0.9975 - val_loss: 0.0930 - val_accuracy: 0.9886\n",
            "Epoch 33/50\n",
            "66/66 [==============================] - 0s 3ms/step - loss: 0.0088 - accuracy: 0.9975 - val_loss: 0.0866 - val_accuracy: 0.9914\n",
            "Epoch 34/50\n",
            "66/66 [==============================] - 0s 3ms/step - loss: 0.0073 - accuracy: 0.9981 - val_loss: 0.0997 - val_accuracy: 0.9914\n",
            "Epoch 35/50\n",
            "66/66 [==============================] - 0s 3ms/step - loss: 0.0128 - accuracy: 0.9959 - val_loss: 0.1064 - val_accuracy: 0.9914\n",
            "Epoch 36/50\n",
            "66/66 [==============================] - 0s 3ms/step - loss: 0.0170 - accuracy: 0.9975 - val_loss: 0.0520 - val_accuracy: 0.9914\n",
            "Epoch 37/50\n",
            "66/66 [==============================] - 0s 3ms/step - loss: 0.0119 - accuracy: 0.9978 - val_loss: 0.0591 - val_accuracy: 0.9943\n",
            "Epoch 38/50\n",
            "66/66 [==============================] - 0s 3ms/step - loss: 0.0053 - accuracy: 0.9987 - val_loss: 0.0578 - val_accuracy: 0.9943\n",
            "Epoch 39/50\n",
            "66/66 [==============================] - 0s 3ms/step - loss: 0.0092 - accuracy: 0.9978 - val_loss: 0.0678 - val_accuracy: 0.9943\n",
            "Epoch 40/50\n",
            "66/66 [==============================] - 0s 3ms/step - loss: 0.0039 - accuracy: 0.9990 - val_loss: 0.0966 - val_accuracy: 0.9886\n",
            "Epoch 41/50\n",
            "66/66 [==============================] - 0s 4ms/step - loss: 0.0066 - accuracy: 0.9971 - val_loss: 0.1108 - val_accuracy: 0.9886\n",
            "Epoch 42/50\n",
            "66/66 [==============================] - 0s 3ms/step - loss: 0.0124 - accuracy: 0.9971 - val_loss: 0.0860 - val_accuracy: 0.9914\n",
            "Epoch 43/50\n",
            "66/66 [==============================] - 0s 4ms/step - loss: 0.0088 - accuracy: 0.9962 - val_loss: 0.0766 - val_accuracy: 0.9914\n",
            "Epoch 44/50\n",
            "66/66 [==============================] - 0s 3ms/step - loss: 0.0078 - accuracy: 0.9978 - val_loss: 0.0703 - val_accuracy: 0.9914\n",
            "Epoch 45/50\n",
            "66/66 [==============================] - 0s 3ms/step - loss: 0.0071 - accuracy: 0.9978 - val_loss: 0.1080 - val_accuracy: 0.9914\n",
            "Epoch 46/50\n",
            "66/66 [==============================] - 0s 4ms/step - loss: 0.0110 - accuracy: 0.9971 - val_loss: 0.0739 - val_accuracy: 0.9914\n",
            "Epoch 47/50\n",
            "66/66 [==============================] - 0s 3ms/step - loss: 0.0123 - accuracy: 0.9956 - val_loss: 0.1195 - val_accuracy: 0.9886\n",
            "Epoch 48/50\n",
            "66/66 [==============================] - 0s 3ms/step - loss: 0.0159 - accuracy: 0.9952 - val_loss: 0.0774 - val_accuracy: 0.9943\n",
            "Epoch 49/50\n",
            "66/66 [==============================] - 0s 3ms/step - loss: 0.0050 - accuracy: 0.9984 - val_loss: 0.0952 - val_accuracy: 0.9914\n",
            "Epoch 50/50\n",
            "66/66 [==============================] - 0s 3ms/step - loss: 0.0089 - accuracy: 0.9971 - val_loss: 0.1114 - val_accuracy: 0.9886\n",
            "47/47 [==============================] - 0s 1ms/step - loss: 0.0542 - accuracy: 0.9893\n",
            "[0.054173894226551056, 0.9893333315849304]\n"
          ],
          "name": "stdout"
        }
      ]
    },
    {
      "cell_type": "code",
      "metadata": {
        "colab": {
          "base_uri": "https://localhost:8080/"
        },
        "id": "-0pHG77xodJU",
        "outputId": "79d470d7-7dca-41be-e654-73aad4ef0785"
      },
      "source": [
        "#evaluate the model\n",
        "score = model.evaluate(X_test, y_test)\n",
        "print(score)\n"
      ],
      "execution_count": 137,
      "outputs": [
        {
          "output_type": "stream",
          "text": [
            "47/47 [==============================] - 0s 1ms/step - loss: 0.0542 - accuracy: 0.9893\n",
            "[0.054173894226551056, 0.9893333315849304]\n"
          ],
          "name": "stdout"
        }
      ]
    },
    {
      "cell_type": "markdown",
      "metadata": {
        "id": "AoVBJ97Chd7h"
      },
      "source": [
        "## plot accuracy vs. loss curve"
      ]
    },
    {
      "cell_type": "code",
      "metadata": {
        "colab": {
          "base_uri": "https://localhost:8080/",
          "height": 582
        },
        "id": "z63DIqxU_BI6",
        "outputId": "42ea2a13-d9f3-401b-b762-414dbe8a03ce"
      },
      "source": [
        "# list all data in history\n",
        "print(history.history.keys())\n",
        "# summarize history for accuracy\n",
        "plt.plot(history.history['accuracy'])\n",
        "plt.plot(history.history['val_accuracy'])\n",
        "plt.title('model accuracy')\n",
        "plt.ylabel('accuracy')\n",
        "plt.xlabel('epoch')\n",
        "plt.legend(['train', 'test'], loc='upper left')\n",
        "plt.show()\n",
        "# summarize history for loss\n",
        "plt.plot(history.history['loss'])\n",
        "plt.plot(history.history['val_loss'])\n",
        "plt.title('model loss')\n",
        "plt.ylabel('loss')\n",
        "plt.xlabel('epoch')\n",
        "plt.legend(['train', 'test'], loc='upper left')\n",
        "plt.show()"
      ],
      "execution_count": 139,
      "outputs": [
        {
          "output_type": "stream",
          "text": [
            "dict_keys(['loss', 'accuracy', 'val_loss', 'val_accuracy'])\n"
          ],
          "name": "stdout"
        },
        {
          "output_type": "display_data",
          "data": {
            "image/png": "[encoded data removed]",
            "text/plain": [
              "<Figure size 432x288 with 1 Axes>"
            ]
          },
          "metadata": {
            "tags": [],
            "needs_background": "light"
          }
        },
        {
          "output_type": "display_data",
          "data": {
            "image/png": "[encoded data removed]",
            "text/plain": [
              "<Figure size 432x288 with 1 Axes>"
            ]
          },
          "metadata": {
            "tags": [],
            "needs_background": "light"
          }
        }
      ]
    },
    {
      "cell_type": "code",
      "metadata": {
        "id": "3q4Uj_iI8yVE"
      },
      "source": [
        ""
      ],
      "execution_count": null,
      "outputs": []
    }
  ]
}