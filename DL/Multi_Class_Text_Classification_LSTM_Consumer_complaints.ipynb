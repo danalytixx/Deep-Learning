{
  "nbformat": 4,
  "nbformat_minor": 0,
  "metadata": {
    "kernelspec": {
      "display_name": "Python 3",
      "language": "python",
      "name": "python3"
    },
    "language_info": {
      "codemirror_mode": {
        "name": "ipython",
        "version": 3
      },
      "file_extension": ".py",
      "mimetype": "text/x-python",
      "name": "python",
      "nbconvert_exporter": "python",
      "pygments_lexer": "ipython3",
      "version": "3.6.7"
    },
    "colab": {
      "name": "Multi-Class Text Classification LSTM Consumer complaints.ipynb",
      "provenance": [],
      "collapsed_sections": []
    }
  },
  "cells": [
    {
      "cell_type": "markdown",
      "metadata": {
        "id": "QuKF_26o5Sze"
      },
      "source": [
        ""
      ]
    },
    {
      "cell_type": "markdown",
      "metadata": {
        "id": "hb1OZ6fOOgDl"
      },
      "source": [
        "# Multi-Class Text Classification LSTM Consumer complaints\n",
        "\n",
        "#### https://towardsdatascience.com/multi-class-text-classification-with-lstm-1590bee1bd17 "
      ]
    },
    {
      "cell_type": "code",
      "metadata": {
        "id": "VqMgQb9qMvuv"
      },
      "source": [
        "#pip install chart-studio"
      ],
      "execution_count": 32,
      "outputs": []
    },
    {
      "cell_type": "code",
      "metadata": {
        "id": "wlRjCMKeL0hJ",
        "colab": {
          "base_uri": "https://localhost:8080/",
          "height": 51
        },
        "outputId": "5ed16cf3-1dc7-4f70-b439-f97fdfc59ff1"
      },
      "source": [
        "import numpy as np \n",
        "import pandas as pd\n",
        "import matplotlib.pyplot as plt\n",
        "import seaborn as sns\n",
        "from keras.preprocessing.text import Tokenizer\n",
        "from keras.preprocessing.sequence import pad_sequences\n",
        "from keras.models import Sequential\n",
        "from keras.layers import Dense, Embedding, LSTM, SpatialDropout1D\n",
        "from sklearn.model_selection import train_test_split\n",
        "from keras.utils.np_utils import to_categorical\n",
        "from keras.callbacks import EarlyStopping\n",
        "from keras.layers import Dropout\n",
        "import re\n",
        "from nltk.corpus import stopwords\n",
        "from nltk import word_tokenize\n",
        "import nltk\n",
        "nltk.download('stopwords')\n",
        "STOPWORDS = set(stopwords.words('english'))\n",
        "from bs4 import BeautifulSoup\n",
        "from plotly import __version__\n",
        "%matplotlib inline\n",
        "import cufflinks as cf\n",
        "from plotly.offline import download_plotlyjs, init_notebook_mode, plot, iplot\n",
        "init_notebook_mode(connected=True)\n",
        "\n",
        "init_notebook_mode(connected=True)\n",
        "cf.go_offline()\n",
        "#import plotly.graph_objs as go\n",
        "from chart_studio import plotly \n",
        "import chart_studio.plotly as py\n",
        "import plotly.graph_objs as go\n",
        "import cufflinks\n",
        "from IPython.core.interactiveshell import InteractiveShell\n",
        "import plotly.figure_factory as ff\n",
        "InteractiveShell.ast_node_interactivity = 'all'\n",
        "from plotly.offline import iplot\n",
        "cufflinks.go_offline()\n",
        "cufflinks.set_config_file(world_readable=True, theme='pearl')"
      ],
      "execution_count": 2,
      "outputs": [
        {
          "output_type": "stream",
          "text": [
            "[nltk_data] Downloading package stopwords to /root/nltk_data...\n",
            "[nltk_data]   Unzipping corpora/stopwords.zip.\n"
          ],
          "name": "stdout"
        },
        {
          "output_type": "display_data",
          "data": {
            "text/html": [
              "        <script type=\"text/javascript\">\n",
              "        window.PlotlyConfig = {MathJaxConfig: 'local'};\n",
              "        if (window.MathJax) {MathJax.Hub.Config({SVG: {font: \"STIX-Web\"}});}\n",
              "        if (typeof require !== 'undefined') {\n",
              "        require.undef(\"plotly\");\n",
              "        requirejs.config({\n",
              "            paths: {\n",
              "                'plotly': ['https://cdn.plot.ly/plotly-latest.min']\n",
              "            }\n",
              "        });\n",
              "        require(['plotly'], function(Plotly) {\n",
              "            window._Plotly = Plotly;\n",
              "        });\n",
              "        }\n",
              "        </script>\n",
              "        "
            ]
          },
          "metadata": {
            "tags": []
          }
        },
        {
          "output_type": "display_data",
          "data": {
            "text/html": [
              "        <script type=\"text/javascript\">\n",
              "        window.PlotlyConfig = {MathJaxConfig: 'local'};\n",
              "        if (window.MathJax) {MathJax.Hub.Config({SVG: {font: \"STIX-Web\"}});}\n",
              "        if (typeof require !== 'undefined') {\n",
              "        require.undef(\"plotly\");\n",
              "        requirejs.config({\n",
              "            paths: {\n",
              "                'plotly': ['https://cdn.plot.ly/plotly-latest.min']\n",
              "            }\n",
              "        });\n",
              "        require(['plotly'], function(Plotly) {\n",
              "            window._Plotly = Plotly;\n",
              "        });\n",
              "        }\n",
              "        </script>\n",
              "        "
            ]
          },
          "metadata": {
            "tags": []
          }
        },
        {
          "output_type": "display_data",
          "data": {
            "text/html": [
              "        <script type=\"text/javascript\">\n",
              "        window.PlotlyConfig = {MathJaxConfig: 'local'};\n",
              "        if (window.MathJax) {MathJax.Hub.Config({SVG: {font: \"STIX-Web\"}});}\n",
              "        if (typeof require !== 'undefined') {\n",
              "        require.undef(\"plotly\");\n",
              "        requirejs.config({\n",
              "            paths: {\n",
              "                'plotly': ['https://cdn.plot.ly/plotly-latest.min']\n",
              "            }\n",
              "        });\n",
              "        require(['plotly'], function(Plotly) {\n",
              "            window._Plotly = Plotly;\n",
              "        });\n",
              "        }\n",
              "        </script>\n",
              "        "
            ]
          },
          "metadata": {
            "tags": []
          }
        },
        {
          "output_type": "display_data",
          "data": {
            "text/html": [
              "        <script type=\"text/javascript\">\n",
              "        window.PlotlyConfig = {MathJaxConfig: 'local'};\n",
              "        if (window.MathJax) {MathJax.Hub.Config({SVG: {font: \"STIX-Web\"}});}\n",
              "        if (typeof require !== 'undefined') {\n",
              "        require.undef(\"plotly\");\n",
              "        requirejs.config({\n",
              "            paths: {\n",
              "                'plotly': ['https://cdn.plot.ly/plotly-latest.min']\n",
              "            }\n",
              "        });\n",
              "        require(['plotly'], function(Plotly) {\n",
              "            window._Plotly = Plotly;\n",
              "        });\n",
              "        }\n",
              "        </script>\n",
              "        "
            ]
          },
          "metadata": {
            "tags": []
          }
        }
      ]
    },
    {
      "cell_type": "markdown",
      "metadata": {
        "id": "Lklvj6l_30_8"
      },
      "source": [
        "## loading data"
      ]
    },
    {
      "cell_type": "code",
      "metadata": {
        "id": "J5uDtyaoL0hV"
      },
      "source": [
        "df = pd.read_csv('https://raw.githubusercontent.com/plotly/datasets/master/26k-consumer-complaints.csv')"
      ],
      "execution_count": 3,
      "outputs": []
    },
    {
      "cell_type": "code",
      "metadata": {
        "scrolled": true,
        "id": "dZtJsqo2L0hW",
        "colab": {
          "base_uri": "https://localhost:8080/",
          "height": 459
        },
        "outputId": "1ae14246-cbf0-41f7-9fe0-b36747511a6b"
      },
      "source": [
        "df.head()"
      ],
      "execution_count": 4,
      "outputs": [
        {
          "output_type": "execute_result",
          "data": {
            "text/html": [
              "<div>\n",
              "<style scoped>\n",
              "    .dataframe tbody tr th:only-of-type {\n",
              "        vertical-align: middle;\n",
              "    }\n",
              "\n",
              "    .dataframe tbody tr th {\n",
              "        vertical-align: top;\n",
              "    }\n",
              "\n",
              "    .dataframe thead th {\n",
              "        text-align: right;\n",
              "    }\n",
              "</style>\n",
              "<table border=\"1\" class=\"dataframe\">\n",
              "  <thead>\n",
              "    <tr style=\"text-align: right;\">\n",
              "      <th></th>\n",
              "      <th>Unnamed: 0</th>\n",
              "      <th>Complaint ID</th>\n",
              "      <th>Product</th>\n",
              "      <th>Sub-product</th>\n",
              "      <th>Issue</th>\n",
              "      <th>Sub-issue</th>\n",
              "      <th>State</th>\n",
              "      <th>ZIP code</th>\n",
              "      <th>Date received</th>\n",
              "      <th>Date sent to company</th>\n",
              "      <th>Company</th>\n",
              "      <th>Company response</th>\n",
              "      <th>Timely response?</th>\n",
              "      <th>Consumer disputed?</th>\n",
              "    </tr>\n",
              "  </thead>\n",
              "  <tbody>\n",
              "    <tr>\n",
              "      <th>0</th>\n",
              "      <td>0</td>\n",
              "      <td>1291006</td>\n",
              "      <td>Debt collection</td>\n",
              "      <td>NaN</td>\n",
              "      <td>Communication tactics</td>\n",
              "      <td>Frequent or repeated calls</td>\n",
              "      <td>TX</td>\n",
              "      <td>76119.0</td>\n",
              "      <td>2015-03-19</td>\n",
              "      <td>2015-03-19</td>\n",
              "      <td>Premium Asset Services, LLC</td>\n",
              "      <td>In progress</td>\n",
              "      <td>Yes</td>\n",
              "      <td>NaN</td>\n",
              "    </tr>\n",
              "    <tr>\n",
              "      <th>1</th>\n",
              "      <td>1</td>\n",
              "      <td>1290580</td>\n",
              "      <td>Debt collection</td>\n",
              "      <td>Medical</td>\n",
              "      <td>Cont'd attempts collect debt not owed</td>\n",
              "      <td>Debt is not mine</td>\n",
              "      <td>TX</td>\n",
              "      <td>77479.0</td>\n",
              "      <td>2015-03-19</td>\n",
              "      <td>2015-03-19</td>\n",
              "      <td>Accounts Receivable Consultants Inc.</td>\n",
              "      <td>Closed with explanation</td>\n",
              "      <td>Yes</td>\n",
              "      <td>NaN</td>\n",
              "    </tr>\n",
              "    <tr>\n",
              "      <th>2</th>\n",
              "      <td>2</td>\n",
              "      <td>1290564</td>\n",
              "      <td>Mortgage</td>\n",
              "      <td>FHA mortgage</td>\n",
              "      <td>Application, originator, mortgage broker</td>\n",
              "      <td>NaN</td>\n",
              "      <td>MA</td>\n",
              "      <td>2127.0</td>\n",
              "      <td>2015-03-19</td>\n",
              "      <td>2015-03-19</td>\n",
              "      <td>RBS Citizens</td>\n",
              "      <td>Closed with explanation</td>\n",
              "      <td>Yes</td>\n",
              "      <td>Yes</td>\n",
              "    </tr>\n",
              "    <tr>\n",
              "      <th>3</th>\n",
              "      <td>3</td>\n",
              "      <td>1291615</td>\n",
              "      <td>Credit card</td>\n",
              "      <td>NaN</td>\n",
              "      <td>Other</td>\n",
              "      <td>NaN</td>\n",
              "      <td>CA</td>\n",
              "      <td>92592.0</td>\n",
              "      <td>2015-03-19</td>\n",
              "      <td>2015-03-19</td>\n",
              "      <td>Navy FCU</td>\n",
              "      <td>In progress</td>\n",
              "      <td>Yes</td>\n",
              "      <td>NaN</td>\n",
              "    </tr>\n",
              "    <tr>\n",
              "      <th>4</th>\n",
              "      <td>4</td>\n",
              "      <td>1292165</td>\n",
              "      <td>Debt collection</td>\n",
              "      <td>Non-federal student loan</td>\n",
              "      <td>Cont'd attempts collect debt not owed</td>\n",
              "      <td>Debt resulted from identity theft</td>\n",
              "      <td>NaN</td>\n",
              "      <td>43068.0</td>\n",
              "      <td>2015-03-19</td>\n",
              "      <td>2015-03-19</td>\n",
              "      <td>Transworld Systems Inc.</td>\n",
              "      <td>In progress</td>\n",
              "      <td>Yes</td>\n",
              "      <td>NaN</td>\n",
              "    </tr>\n",
              "  </tbody>\n",
              "</table>\n",
              "</div>"
            ],
            "text/plain": [
              "   Unnamed: 0  Complaint ID  ... Timely response? Consumer disputed?\n",
              "0           0       1291006  ...              Yes                NaN\n",
              "1           1       1290580  ...              Yes                NaN\n",
              "2           2       1290564  ...              Yes                Yes\n",
              "3           3       1291615  ...              Yes                NaN\n",
              "4           4       1292165  ...              Yes                NaN\n",
              "\n",
              "[5 rows x 14 columns]"
            ]
          },
          "metadata": {
            "tags": []
          },
          "execution_count": 4
        }
      ]
    },
    {
      "cell_type": "code",
      "metadata": {
        "id": "jNEuOa3XL0hX",
        "colab": {
          "base_uri": "https://localhost:8080/"
        },
        "outputId": "d5cd6789-b39f-4168-8010-600cecd5890a"
      },
      "source": [
        "df.info()"
      ],
      "execution_count": 5,
      "outputs": [
        {
          "output_type": "stream",
          "text": [
            "<class 'pandas.core.frame.DataFrame'>\n",
            "RangeIndex: 28156 entries, 0 to 28155\n",
            "Data columns (total 14 columns):\n",
            " #   Column                Non-Null Count  Dtype  \n",
            "---  ------                --------------  -----  \n",
            " 0   Unnamed: 0            28156 non-null  int64  \n",
            " 1   Complaint ID          28156 non-null  int64  \n",
            " 2   Product               28156 non-null  object \n",
            " 3   Sub-product           17582 non-null  object \n",
            " 4   Issue                 28154 non-null  object \n",
            " 5   Sub-issue             13211 non-null  object \n",
            " 6   State                 27735 non-null  object \n",
            " 7   ZIP code              27876 non-null  float64\n",
            " 8   Date received         28156 non-null  object \n",
            " 9   Date sent to company  28156 non-null  object \n",
            " 10  Company               28156 non-null  object \n",
            " 11  Company response      28156 non-null  object \n",
            " 12  Timely response?      28156 non-null  object \n",
            " 13  Consumer disputed?    6006 non-null   object \n",
            "dtypes: float64(1), int64(2), object(11)\n",
            "memory usage: 3.0+ MB\n"
          ],
          "name": "stdout"
        }
      ]
    },
    {
      "cell_type": "code",
      "metadata": {
        "colab": {
          "base_uri": "https://localhost:8080/"
        },
        "id": "FtjF75sk0N5B",
        "outputId": "915abbeb-ab3d-40ec-adee-147975a357c2"
      },
      "source": [
        "df.shape"
      ],
      "execution_count": 18,
      "outputs": [
        {
          "output_type": "execute_result",
          "data": {
            "text/plain": [
              "(28116, 14)"
            ]
          },
          "metadata": {
            "tags": []
          },
          "execution_count": 18
        }
      ]
    },
    {
      "cell_type": "code",
      "metadata": {
        "id": "dX9FEHXZL0hX",
        "colab": {
          "base_uri": "https://localhost:8080/"
        },
        "outputId": "b9b776a4-f3ad-47d9-9081-e59807155d07"
      },
      "source": [
        "df.Product.value_counts()"
      ],
      "execution_count": 6,
      "outputs": [
        {
          "output_type": "execute_result",
          "data": {
            "text/plain": [
              "Debt collection            7494\n",
              "Mortgage                   6612\n",
              "Credit reporting           5717\n",
              "Credit card                2830\n",
              "Bank account or service    2609\n",
              "Consumer loan              1314\n",
              "Student loan                785\n",
              "Payday loan                 348\n",
              "Money transfers             232\n",
              "Prepaid card                175\n",
              "Other financial service      40\n",
              "Name: Product, dtype: int64"
            ]
          },
          "metadata": {
            "tags": []
          },
          "execution_count": 6
        }
      ]
    },
    {
      "cell_type": "code",
      "metadata": {
        "id": "Zc6g3ze-L0hY"
      },
      "source": [
        "df.loc[df['Product'] == 'Credit reporting', 'Product'] = 'Credit reporting, credit repair services, or other personal consumer reports'\n",
        "df.loc[df['Product'] == 'Credit card', 'Product'] = 'Credit card or prepaid card'\n",
        "df.loc[df['Product'] == 'Payday loan', 'Product'] = 'Payday loan, title loan, or personal loan'\n",
        "df.loc[df['Product'] == 'Virtual currency', 'Product'] = 'Money transfer, virtual currency, or money service'\n",
        "df = df[df.Product != 'Other financial service']"
      ],
      "execution_count": 7,
      "outputs": []
    },
    {
      "cell_type": "markdown",
      "metadata": {
        "id": "eMsfzPID39uH"
      },
      "source": [
        "## ploting the complaints"
      ]
    },
    {
      "cell_type": "code",
      "metadata": {
        "id": "yiDrpAXxL0hZ",
        "colab": {
          "base_uri": "https://localhost:8080/",
          "height": 662
        },
        "outputId": "168493aa-1357-4c6f-b407-0894b5af9ded"
      },
      "source": [
        "df['Product'].value_counts().sort_values(ascending=False).plot(kind='bar', \n",
        "                                                                title='Number complaints in each product')"
      ],
      "execution_count": 8,
      "outputs": [
        {
          "output_type": "execute_result",
          "data": {
            "text/plain": [
              "<matplotlib.axes._subplots.AxesSubplot at 0x7f9d6627f210>"
            ]
          },
          "metadata": {
            "tags": []
          },
          "execution_count": 8
        },
        {
          "output_type": "display_data",
          "data": {
            "image/png": "[encoded data removed]",
            "text/plain": [
              "<Figure size 432x288 with 1 Axes>"
            ]
          },
          "metadata": {
            "tags": [],
            "needs_background": "light"
          }
        }
      ]
    },
    {
      "cell_type": "code",
      "metadata": {
        "id": "pkdJhvIbL0ha"
      },
      "source": [
        "def print_plot(index):\n",
        "    example = df[df.index == index][['Issue', 'Product']].values[0]\n",
        "    if len(example) > 0:\n",
        "        print(example[0])\n",
        "        print('Product:', example[1])"
      ],
      "execution_count": 9,
      "outputs": []
    },
    {
      "cell_type": "code",
      "metadata": {
        "id": "zmLmVRy6L0ha",
        "colab": {
          "base_uri": "https://localhost:8080/"
        },
        "outputId": "ec51b681-fc2b-4f6d-c8e9-2b6b9204be66"
      },
      "source": [
        "print_plot(10)"
      ],
      "execution_count": 10,
      "outputs": [
        {
          "output_type": "stream",
          "text": [
            "False statements or representation\n",
            "Product: Debt collection\n"
          ],
          "name": "stdout"
        }
      ]
    },
    {
      "cell_type": "code",
      "metadata": {
        "id": "_rx0Q4f5L0hb",
        "colab": {
          "base_uri": "https://localhost:8080/"
        },
        "outputId": "d0f2b0fd-28dd-4563-fff6-372ca4c7dc45"
      },
      "source": [
        "print_plot(100)"
      ],
      "execution_count": 12,
      "outputs": [
        {
          "output_type": "stream",
          "text": [
            "Communication tactics\n",
            "Product: Debt collection\n"
          ],
          "name": "stdout"
        }
      ]
    },
    {
      "cell_type": "markdown",
      "metadata": {
        "id": "cZxTVtwU1G0A"
      },
      "source": [
        "## preprocessing the data nad cleansing"
      ]
    },
    {
      "cell_type": "code",
      "metadata": {
        "id": "oeH4himWL0hb"
      },
      "source": [
        "df = df.reset_index(drop=True)\n",
        "REPLACE_BY_SPACE_RE = re.compile('[/(){}\\[\\]\\|@,;]')\n",
        "BAD_SYMBOLS_RE = re.compile('[^0-9a-z #+_]')\n",
        "STOPWORDS = set(stopwords.words('english'))\n",
        "\n",
        "def clean_text(text):\n",
        "    \"\"\"\n",
        "        text: a string\n",
        "        \n",
        "        return: modified initial string\n",
        "    \"\"\"\n",
        "    text = str(text).lower() # lowercase text\n",
        "    text = REPLACE_BY_SPACE_RE.sub(' ', text) # replace REPLACE_BY_SPACE_RE symbols by space in text. substitute the matched string in REPLACE_BY_SPACE_RE with space.\n",
        "    text = BAD_SYMBOLS_RE.sub('', text) # remove symbols which are in BAD_SYMBOLS_RE from text. substitute the matched string in BAD_SYMBOLS_RE with nothing. \n",
        "    text = text.replace('x', '')\n",
        "#    text = re.sub(r'\\W+', '', text)\n",
        "    text = ' '.join(word for word in text.split() if word not in STOPWORDS) # remove stopwors from text\n",
        "    return text\n",
        "df['Issue'] = df['Issue'].apply(clean_text)"
      ],
      "execution_count": 13,
      "outputs": []
    },
    {
      "cell_type": "code",
      "metadata": {
        "id": "Lim5f8zrL0hc"
      },
      "source": [
        "df['Issue'] = df['Issue'].str.replace('\\d+', '')"
      ],
      "execution_count": 14,
      "outputs": []
    },
    {
      "cell_type": "code",
      "metadata": {
        "id": "6hpYXjB8L0hc",
        "colab": {
          "base_uri": "https://localhost:8080/"
        },
        "outputId": "20ff7d5c-51dd-4c97-e3d0-7af04af5c139"
      },
      "source": [
        "print_plot(10)"
      ],
      "execution_count": 15,
      "outputs": [
        {
          "output_type": "stream",
          "text": [
            "false statements representation\n",
            "Product: Debt collection\n"
          ],
          "name": "stdout"
        }
      ]
    },
    {
      "cell_type": "code",
      "metadata": {
        "id": "U66dPBJnL0hd",
        "colab": {
          "base_uri": "https://localhost:8080/"
        },
        "outputId": "3b1eaa92-1f8c-45e3-a35d-eb81e6a038c6"
      },
      "source": [
        "print_plot(100)"
      ],
      "execution_count": 16,
      "outputs": [
        {
          "output_type": "stream",
          "text": [
            "communication tactics\n",
            "Product: Debt collection\n"
          ],
          "name": "stdout"
        }
      ]
    },
    {
      "cell_type": "markdown",
      "metadata": {
        "id": "PmF0t_Sm4HpI"
      },
      "source": [
        "## transform the text into tokens and sequences"
      ]
    },
    {
      "cell_type": "code",
      "metadata": {
        "id": "Kw4nh7ReL0hd",
        "colab": {
          "base_uri": "https://localhost:8080/"
        },
        "outputId": "e8144364-08ec-44f6-9b81-c1fe96d1fa55"
      },
      "source": [
        "# The maximum number of words to be used. (most frequent)\n",
        "MAX_NB_WORDS = 50000\n",
        "# Max number of words in each complaint.\n",
        "MAX_SEQUENCE_LENGTH = 250\n",
        "# This is fixed.\n",
        "EMBEDDING_DIM = 100\n",
        "\n",
        "tokenizer = Tokenizer(num_words=MAX_NB_WORDS, filters='!\"#$%&()*+,-./:;<=>?@[\\]^_`{|}~', lower=True)\n",
        "tokenizer.fit_on_texts(df['Issue'].values)\n",
        "word_index = tokenizer.word_index\n",
        "print('Found %s unique tokens.' % len(word_index))"
      ],
      "execution_count": 19,
      "outputs": [
        {
          "output_type": "stream",
          "text": [
            "Found 161 unique tokens.\n"
          ],
          "name": "stdout"
        }
      ]
    },
    {
      "cell_type": "code",
      "metadata": {
        "id": "mcd-MyE_L0he",
        "colab": {
          "base_uri": "https://localhost:8080/"
        },
        "outputId": "848af282-308d-4b3d-cd57-43b088428baa"
      },
      "source": [
        "X = tokenizer.texts_to_sequences(df['Issue'].values)\n",
        "X = pad_sequences(X, maxlen=MAX_SEQUENCE_LENGTH)\n",
        "print('Shape of data tensor:', X.shape)"
      ],
      "execution_count": 20,
      "outputs": [
        {
          "output_type": "stream",
          "text": [
            "Shape of data tensor: (28116, 250)\n"
          ],
          "name": "stdout"
        }
      ]
    },
    {
      "cell_type": "code",
      "metadata": {
        "id": "wqSY84VHL0he",
        "colab": {
          "base_uri": "https://localhost:8080/"
        },
        "outputId": "0633aa9b-86e6-46e9-c675-490c8fc427c7"
      },
      "source": [
        "Y = pd.get_dummies(df['Product']).values\n",
        "print('Shape of label tensor:', Y.shape)"
      ],
      "execution_count": 21,
      "outputs": [
        {
          "output_type": "stream",
          "text": [
            "Shape of label tensor: (28116, 10)\n"
          ],
          "name": "stdout"
        }
      ]
    },
    {
      "cell_type": "markdown",
      "metadata": {
        "id": "dbfkmRaN1LzJ"
      },
      "source": [
        "## split train and test sets"
      ]
    },
    {
      "cell_type": "code",
      "metadata": {
        "id": "M66lzhl9L0hf",
        "colab": {
          "base_uri": "https://localhost:8080/"
        },
        "outputId": "f1ebad3a-f47d-4cb7-a00a-a7340d5e275c"
      },
      "source": [
        "X_train, X_test, Y_train, Y_test = train_test_split(X,Y, test_size = 0.10, random_state = 42)\n",
        "print(X_train.shape,Y_train.shape)\n",
        "print(X_test.shape,Y_test.shape)"
      ],
      "execution_count": 22,
      "outputs": [
        {
          "output_type": "stream",
          "text": [
            "(25304, 250) (25304, 10)\n",
            "(2812, 250) (2812, 10)\n"
          ],
          "name": "stdout"
        }
      ]
    },
    {
      "cell_type": "markdown",
      "metadata": {
        "id": "R58xkhBG1QID"
      },
      "source": [
        "## train the model"
      ]
    },
    {
      "cell_type": "code",
      "metadata": {
        "id": "KhCJu9GfL0hf",
        "colab": {
          "base_uri": "https://localhost:8080/"
        },
        "outputId": "cd5d8a47-ba7a-41ae-a9a9-f1db54a75b6b"
      },
      "source": [
        "model = Sequential()\n",
        "model.add(Embedding(MAX_NB_WORDS, EMBEDDING_DIM, input_length=X.shape[1]))\n",
        "model.add(SpatialDropout1D(0.2))\n",
        "model.add(LSTM(100, dropout=0.2, recurrent_dropout=0.2))\n",
        "model.add(Dense(10, activation='softmax'))\n",
        "model.compile(loss='categorical_crossentropy', optimizer='adam', metrics=['accuracy'])\n",
        "print(model.summary())"
      ],
      "execution_count": 23,
      "outputs": [
        {
          "output_type": "stream",
          "text": [
            "Model: \"sequential\"\n",
            "_________________________________________________________________\n",
            "Layer (type)                 Output Shape              Param #   \n",
            "=================================================================\n",
            "embedding (Embedding)        (None, 250, 100)          5000000   \n",
            "_________________________________________________________________\n",
            "spatial_dropout1d (SpatialDr (None, 250, 100)          0         \n",
            "_________________________________________________________________\n",
            "lstm (LSTM)                  (None, 100)               80400     \n",
            "_________________________________________________________________\n",
            "dense (Dense)                (None, 10)                1010      \n",
            "=================================================================\n",
            "Total params: 5,081,410\n",
            "Trainable params: 5,081,410\n",
            "Non-trainable params: 0\n",
            "_________________________________________________________________\n",
            "None\n"
          ],
          "name": "stdout"
        }
      ]
    },
    {
      "cell_type": "code",
      "metadata": {
        "id": "LDHy9gh6L0hg",
        "colab": {
          "base_uri": "https://localhost:8080/"
        },
        "outputId": "72c4e129-5e0e-4e43-ff74-2f9e7840381d"
      },
      "source": [
        "epochs = 3\n",
        "batch_size = 256\n",
        "\n",
        "history = model.fit(X_train, Y_train, epochs=epochs, batch_size=batch_size,validation_split=0.1,callbacks=[EarlyStopping(monitor='val_loss', patience=3, min_delta=0.0001)])"
      ],
      "execution_count": 24,
      "outputs": [
        {
          "output_type": "stream",
          "text": [
            "Epoch 1/3\n",
            "89/89 [==============================] - 191s 2s/step - loss: 1.6579 - accuracy: 0.5356 - val_loss: 0.2284 - val_accuracy: 0.9648\n",
            "Epoch 2/3\n",
            "89/89 [==============================] - 165s 2s/step - loss: 0.1404 - accuracy: 0.9741 - val_loss: 0.0532 - val_accuracy: 0.9917\n",
            "Epoch 3/3\n",
            "89/89 [==============================] - 165s 2s/step - loss: 0.0449 - accuracy: 0.9914 - val_loss: 0.0310 - val_accuracy: 0.9945\n"
          ],
          "name": "stdout"
        }
      ]
    },
    {
      "cell_type": "markdown",
      "metadata": {
        "id": "eLzDLgeh4VNH"
      },
      "source": [
        "## evaluating the model"
      ]
    },
    {
      "cell_type": "code",
      "metadata": {
        "id": "1lYDooFEL0hg",
        "colab": {
          "base_uri": "https://localhost:8080/"
        },
        "outputId": "c5f241f5-1513-478d-feb4-03062683d144"
      },
      "source": [
        "accr = model.evaluate(X_test,Y_test)\n",
        "print('Test set\\n  Loss: {:0.3f}\\n  Accuracy: {:0.3f}'.format(accr[0],accr[1]))"
      ],
      "execution_count": 25,
      "outputs": [
        {
          "output_type": "stream",
          "text": [
            "88/88 [==============================] - 6s 65ms/step - loss: 0.0322 - accuracy: 0.9940\n",
            "Test set\n",
            "  Loss: 0.032\n",
            "  Accuracy: 0.994\n"
          ],
          "name": "stdout"
        }
      ]
    },
    {
      "cell_type": "code",
      "metadata": {
        "id": "wKErxGc3L0hi",
        "colab": {
          "base_uri": "https://localhost:8080/",
          "height": 281
        },
        "outputId": "fe4c740a-5e32-4971-e037-0beca3d3670f"
      },
      "source": [
        "plt.title('Loss')\n",
        "plt.plot(history.history['loss'], label='train')\n",
        "plt.plot(history.history['val_loss'], label='test')\n",
        "plt.legend()\n",
        "plt.show();"
      ],
      "execution_count": 26,
      "outputs": [
        {
          "output_type": "display_data",
          "data": {
            "image/png": "[encoded data removed]",
            "text/plain": [
              "<Figure size 432x288 with 1 Axes>"
            ]
          },
          "metadata": {
            "tags": [],
            "needs_background": "light"
          }
        }
      ]
    },
    {
      "cell_type": "code",
      "metadata": {
        "id": "N6Pd81IHL0hi",
        "colab": {
          "base_uri": "https://localhost:8080/",
          "height": 281
        },
        "outputId": "8454658a-307d-4952-a2f2-3f1f5b7298ac"
      },
      "source": [
        "plt.title('Accuracy')\n",
        "plt.plot(history.history['accuracy'], label='train')\n",
        "plt.plot(history.history['val_accuracy'], label='test')\n",
        "plt.legend()\n",
        "plt.show();"
      ],
      "execution_count": 29,
      "outputs": [
        {
          "output_type": "display_data",
          "data": {
            "image/png": "[encoded data removed]",
            "text/plain": [
              "<Figure size 432x288 with 1 Axes>"
            ]
          },
          "metadata": {
            "tags": [],
            "needs_background": "light"
          }
        }
      ]
    },
    {
      "cell_type": "markdown",
      "metadata": {
        "id": "0ogk-SIiL0hj"
      },
      "source": [
        "## Predict with a new complaint issue"
      ]
    },
    {
      "cell_type": "code",
      "metadata": {
        "id": "IYXcjk4wL0hk",
        "colab": {
          "base_uri": "https://localhost:8080/"
        },
        "outputId": "ca0a6a1e-a315-4c91-8016-a1578c755e44"
      },
      "source": [
        "new_complaint = ['I am a victim of identity theft and someone stole my identity and personal information to open up a Visa credit card account with Bank of America. The following Bank of America Visa credit card account do not belong to me : XXXX.']\n",
        "seq = tokenizer.texts_to_sequences(new_complaint)\n",
        "padded = pad_sequences(seq, maxlen=MAX_SEQUENCE_LENGTH)\n",
        "pred = model.predict(padded)\n",
        "labels = ['Credit reporting, credit repair services, or other personal consumer reports', 'Debt collection', 'Mortgage', 'Credit card or prepaid card', 'Student loan', 'Bank account or service', 'Checking or savings account', 'Consumer Loan', 'Payday loan, title loan, or personal loan', 'Vehicle loan or lease', 'Money transfer, virtual currency, or money service', 'Money transfers', 'Prepaid card']\n",
        "print(pred, \"\\n\" ,labels[np.argmax(pred)])"
      ],
      "execution_count": 31,
      "outputs": [
        {
          "output_type": "stream",
          "text": [
            "[[0.01421928 0.02880315 0.04204255 0.56727743 0.00215587 0.02594563\n",
            "  0.27694565 0.02081667 0.01208621 0.00970762]] \n",
            " Credit card or prepaid card\n"
          ],
          "name": "stdout"
        }
      ]
    }
  ]
}