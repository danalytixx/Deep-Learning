{
  "nbformat": 4,
  "nbformat_minor": 0,
  "metadata": {
    "colab": {
      "provenance": []
    },
    "kernelspec": {
      "name": "python3",
      "display_name": "Python 3"
    },
    "language_info": {
      "name": "python"
    },
    "accelerator": "GPU",
    "gpuClass": "standard"
  },
  "cells": [
    {
      "cell_type": "code",
      "execution_count": 4,
      "metadata": {
        "colab": {
          "base_uri": "https://localhost:8080/"
        },
        "id": "AeTwSfZum1OQ",
        "outputId": "b4715f0f-b654-4781-b658-4942646b4dab"
      },
      "outputs": [
        {
          "output_type": "stream",
          "name": "stdout",
          "text": [
            "Looking in indexes: https://pypi.org/simple, https://us-python.pkg.dev/colab-wheels/public/simple/\n",
            "Collecting pyChatGPT\n",
            "  Downloading pyChatGPT-0.4.0-py3-none-any.whl (22 kB)\n",
            "Collecting PyVirtualDisplay>=3.0\n",
            "  Downloading PyVirtualDisplay-3.0-py3-none-any.whl (15 kB)\n",
            "Collecting undetected-chromedriver>=3.1.7\n",
            "  Downloading undetected-chromedriver-3.2.1.tar.gz (60 kB)\n",
            "\u001b[K     |████████████████████████████████| 60 kB 8.2 MB/s \n",
            "\u001b[?25hCollecting markdownify>=0.11.6\n",
            "  Downloading markdownify-0.11.6-py3-none-any.whl (16 kB)\n",
            "Collecting beautifulsoup4<5,>=4.9\n",
            "  Downloading beautifulsoup4-4.11.1-py3-none-any.whl (128 kB)\n",
            "\u001b[K     |████████████████████████████████| 128 kB 75.0 MB/s \n",
            "\u001b[?25hRequirement already satisfied: six<2,>=1.15 in /usr/local/lib/python3.8/dist-packages (from markdownify>=0.11.6->pyChatGPT) (1.15.0)\n",
            "Collecting soupsieve>1.2\n",
            "  Downloading soupsieve-2.3.2.post1-py3-none-any.whl (37 kB)\n",
            "Collecting selenium>=4.0.0\n",
            "  Downloading selenium-4.7.2-py3-none-any.whl (6.3 MB)\n",
            "\u001b[K     |████████████████████████████████| 6.3 MB 72.6 MB/s \n",
            "\u001b[?25hRequirement already satisfied: requests in /usr/local/lib/python3.8/dist-packages (from undetected-chromedriver>=3.1.7->pyChatGPT) (2.23.0)\n",
            "Collecting websockets\n",
            "  Downloading websockets-10.4-cp38-cp38-manylinux_2_5_x86_64.manylinux1_x86_64.manylinux_2_17_x86_64.manylinux2014_x86_64.whl (106 kB)\n",
            "\u001b[K     |████████████████████████████████| 106 kB 79.2 MB/s \n",
            "\u001b[?25hCollecting trio~=0.17\n",
            "  Downloading trio-0.22.0-py3-none-any.whl (384 kB)\n",
            "\u001b[K     |████████████████████████████████| 384 kB 79.2 MB/s \n",
            "\u001b[?25hCollecting urllib3[socks]~=1.26\n",
            "  Downloading urllib3-1.26.13-py2.py3-none-any.whl (140 kB)\n",
            "\u001b[K     |████████████████████████████████| 140 kB 87.6 MB/s \n",
            "\u001b[?25hRequirement already satisfied: certifi>=2021.10.8 in /usr/local/lib/python3.8/dist-packages (from selenium>=4.0.0->undetected-chromedriver>=3.1.7->pyChatGPT) (2022.12.7)\n",
            "Collecting trio-websocket~=0.9\n",
            "  Downloading trio_websocket-0.9.2-py3-none-any.whl (16 kB)\n",
            "Collecting async-generator>=1.9\n",
            "  Downloading async_generator-1.10-py3-none-any.whl (18 kB)\n",
            "Requirement already satisfied: sortedcontainers in /usr/local/lib/python3.8/dist-packages (from trio~=0.17->selenium>=4.0.0->undetected-chromedriver>=3.1.7->pyChatGPT) (2.4.0)\n",
            "Collecting outcome\n",
            "  Downloading outcome-1.2.0-py2.py3-none-any.whl (9.7 kB)\n",
            "Collecting sniffio\n",
            "  Downloading sniffio-1.3.0-py3-none-any.whl (10 kB)\n",
            "Collecting exceptiongroup>=1.0.0rc9\n",
            "  Downloading exceptiongroup-1.1.0-py3-none-any.whl (14 kB)\n",
            "Requirement already satisfied: idna in /usr/local/lib/python3.8/dist-packages (from trio~=0.17->selenium>=4.0.0->undetected-chromedriver>=3.1.7->pyChatGPT) (2.10)\n",
            "Requirement already satisfied: attrs>=19.2.0 in /usr/local/lib/python3.8/dist-packages (from trio~=0.17->selenium>=4.0.0->undetected-chromedriver>=3.1.7->pyChatGPT) (22.1.0)\n",
            "Collecting wsproto>=0.14\n",
            "  Downloading wsproto-1.2.0-py3-none-any.whl (24 kB)\n",
            "Requirement already satisfied: PySocks!=1.5.7,<2.0,>=1.5.6 in /usr/local/lib/python3.8/dist-packages (from urllib3[socks]~=1.26->selenium>=4.0.0->undetected-chromedriver>=3.1.7->pyChatGPT) (1.7.1)\n",
            "Collecting h11<1,>=0.9.0\n",
            "  Downloading h11-0.14.0-py3-none-any.whl (58 kB)\n",
            "\u001b[K     |████████████████████████████████| 58 kB 8.0 MB/s \n",
            "\u001b[?25hCollecting requests\n",
            "  Downloading requests-2.28.1-py3-none-any.whl (62 kB)\n",
            "\u001b[K     |████████████████████████████████| 62 kB 1.8 MB/s \n",
            "\u001b[?25hRequirement already satisfied: charset-normalizer<3,>=2 in /usr/local/lib/python3.8/dist-packages (from requests->undetected-chromedriver>=3.1.7->pyChatGPT) (2.1.1)\n",
            "Building wheels for collected packages: undetected-chromedriver\n",
            "  Building wheel for undetected-chromedriver (setup.py) ... \u001b[?25l\u001b[?25hdone\n",
            "  Created wheel for undetected-chromedriver: filename=undetected_chromedriver-3.2.1-py3-none-any.whl size=46453 sha256=8b970c64a497e88d8456f5a285b2578632a1d60d5c9e39eedb7109b7455b0322\n",
            "  Stored in directory: /root/.cache/pip/wheels/ae/80/b5/09cd55fb12d3b8d7e3cd839b2d4bf76c10ffc8920e5a42ada8\n",
            "Successfully built undetected-chromedriver\n",
            "Installing collected packages: sniffio, outcome, h11, exceptiongroup, async-generator, wsproto, urllib3, trio, trio-websocket, soupsieve, websockets, selenium, requests, beautifulsoup4, undetected-chromedriver, PyVirtualDisplay, markdownify, pyChatGPT\n",
            "  Attempting uninstall: urllib3\n",
            "    Found existing installation: urllib3 1.24.3\n",
            "    Uninstalling urllib3-1.24.3:\n",
            "      Successfully uninstalled urllib3-1.24.3\n",
            "  Attempting uninstall: requests\n",
            "    Found existing installation: requests 2.23.0\n",
            "    Uninstalling requests-2.23.0:\n",
            "      Successfully uninstalled requests-2.23.0\n",
            "  Attempting uninstall: beautifulsoup4\n",
            "    Found existing installation: beautifulsoup4 4.6.3\n",
            "    Uninstalling beautifulsoup4-4.6.3:\n",
            "      Successfully uninstalled beautifulsoup4-4.6.3\n",
            "Successfully installed PyVirtualDisplay-3.0 async-generator-1.10 beautifulsoup4-4.11.1 exceptiongroup-1.1.0 h11-0.14.0 markdownify-0.11.6 outcome-1.2.0 pyChatGPT-0.4.0 requests-2.28.1 selenium-4.7.2 sniffio-1.3.0 soupsieve-2.3.2.post1 trio-0.22.0 trio-websocket-0.9.2 undetected-chromedriver-3.2.1 urllib3-1.26.13 websockets-10.4 wsproto-1.2.0\n"
          ]
        }
      ],
      "source": [
        "!pip install pyChatGPT"
      ]
    },
    {
      "cell_type": "markdown",
      "source": [
        "install dependencies"
      ],
      "metadata": {
        "id": "eIELRO2O0pgs"
      }
    },
    {
      "cell_type": "code",
      "source": [
        "# install dependencies\n",
        "!apt install chromium-browser xvfb\n",
        "!pip install -U selenium_profiles pyChatGPT\n",
        "\n",
        "# install chromedriver\n",
        "from selenium_profiles.utils.installer import install_chromedriver\n",
        "install_chromedriver()"
      ],
      "metadata": {
        "colab": {
          "base_uri": "https://localhost:8080/"
        },
        "id": "YCi5s5hsujiW",
        "outputId": "84e73f8d-6dbb-4a2a-9dfc-4847624add8e"
      },
      "execution_count": 1,
      "outputs": [
        {
          "output_type": "stream",
          "name": "stdout",
          "text": [
            "Reading package lists... Done\n",
            "Building dependency tree       \n",
            "Reading state information... Done\n",
            "chromium-browser is already the newest version (108.0.5359.71-0ubuntu0.18.04.5).\n",
            "xvfb is already the newest version (2:1.19.6-1ubuntu4.13).\n",
            "The following package was automatically installed and is no longer required:\n",
            "  libnvidia-common-460\n",
            "Use 'apt autoremove' to remove it.\n",
            "0 upgraded, 0 newly installed, 0 to remove and 20 not upgraded.\n",
            "Looking in indexes: https://pypi.org/simple, https://us-python.pkg.dev/colab-wheels/public/simple/\n",
            "Requirement already satisfied: selenium_profiles in /usr/local/lib/python3.8/dist-packages (2.2.4.7.4)\n",
            "Requirement already satisfied: pyChatGPT in /usr/local/lib/python3.8/dist-packages (0.4.0)\n",
            "Requirement already satisfied: selenium~=4.6 in /usr/local/lib/python3.8/dist-packages (from selenium_profiles) (4.7.2)\n",
            "Requirement already satisfied: PyVirtualDisplay in /usr/local/lib/python3.8/dist-packages (from selenium_profiles) (3.0)\n",
            "Requirement already satisfied: requests~=2.28 in /usr/local/lib/python3.8/dist-packages (from selenium_profiles) (2.28.1)\n",
            "Requirement already satisfied: idna<4,>=2.5 in /usr/local/lib/python3.8/dist-packages (from requests~=2.28->selenium_profiles) (2.10)\n",
            "Requirement already satisfied: charset-normalizer<3,>=2 in /usr/local/lib/python3.8/dist-packages (from requests~=2.28->selenium_profiles) (2.1.1)\n",
            "Requirement already satisfied: certifi>=2017.4.17 in /usr/local/lib/python3.8/dist-packages (from requests~=2.28->selenium_profiles) (2022.12.7)\n",
            "Requirement already satisfied: urllib3<1.27,>=1.21.1 in /usr/local/lib/python3.8/dist-packages (from requests~=2.28->selenium_profiles) (1.26.13)\n",
            "Requirement already satisfied: trio~=0.17 in /usr/local/lib/python3.8/dist-packages (from selenium~=4.6->selenium_profiles) (0.22.0)\n",
            "Requirement already satisfied: trio-websocket~=0.9 in /usr/local/lib/python3.8/dist-packages (from selenium~=4.6->selenium_profiles) (0.9.2)\n",
            "Requirement already satisfied: async-generator>=1.9 in /usr/local/lib/python3.8/dist-packages (from trio~=0.17->selenium~=4.6->selenium_profiles) (1.10)\n",
            "Requirement already satisfied: outcome in /usr/local/lib/python3.8/dist-packages (from trio~=0.17->selenium~=4.6->selenium_profiles) (1.2.0)\n",
            "Requirement already satisfied: attrs>=19.2.0 in /usr/local/lib/python3.8/dist-packages (from trio~=0.17->selenium~=4.6->selenium_profiles) (22.1.0)\n",
            "Requirement already satisfied: exceptiongroup>=1.0.0rc9 in /usr/local/lib/python3.8/dist-packages (from trio~=0.17->selenium~=4.6->selenium_profiles) (1.1.0)\n",
            "Requirement already satisfied: sniffio in /usr/local/lib/python3.8/dist-packages (from trio~=0.17->selenium~=4.6->selenium_profiles) (1.3.0)\n",
            "Requirement already satisfied: sortedcontainers in /usr/local/lib/python3.8/dist-packages (from trio~=0.17->selenium~=4.6->selenium_profiles) (2.4.0)\n",
            "Requirement already satisfied: wsproto>=0.14 in /usr/local/lib/python3.8/dist-packages (from trio-websocket~=0.9->selenium~=4.6->selenium_profiles) (1.2.0)\n",
            "Requirement already satisfied: PySocks!=1.5.7,<2.0,>=1.5.6 in /usr/local/lib/python3.8/dist-packages (from urllib3<1.27,>=1.21.1->requests~=2.28->selenium_profiles) (1.7.1)\n",
            "Requirement already satisfied: h11<1,>=0.9.0 in /usr/local/lib/python3.8/dist-packages (from wsproto>=0.14->trio-websocket~=0.9->selenium~=4.6->selenium_profiles) (0.14.0)\n",
            "Requirement already satisfied: markdownify>=0.11.6 in /usr/local/lib/python3.8/dist-packages (from pyChatGPT) (0.11.6)\n",
            "Requirement already satisfied: undetected-chromedriver>=3.1.7 in /usr/local/lib/python3.8/dist-packages (from pyChatGPT) (3.2.1)\n",
            "Requirement already satisfied: six<2,>=1.15 in /usr/local/lib/python3.8/dist-packages (from markdownify>=0.11.6->pyChatGPT) (1.15.0)\n",
            "Requirement already satisfied: beautifulsoup4<5,>=4.9 in /usr/local/lib/python3.8/dist-packages (from markdownify>=0.11.6->pyChatGPT) (4.11.1)\n",
            "Requirement already satisfied: soupsieve>1.2 in /usr/local/lib/python3.8/dist-packages (from beautifulsoup4<5,>=4.9->markdownify>=0.11.6->pyChatGPT) (2.3.2.post1)\n",
            "Requirement already satisfied: websockets in /usr/local/lib/python3.8/dist-packages (from undetected-chromedriver>=3.1.7->pyChatGPT) (10.4)\n"
          ]
        }
      ]
    },
    {
      "cell_type": "code",
      "source": [
        "from pyChatGPT import ChatGPT"
      ],
      "metadata": {
        "id": "4s2lpskbnH_e"
      },
      "execution_count": 2,
      "outputs": []
    },
    {
      "cell_type": "markdown",
      "source": [
        "Use session token or the mail&password to login to ChatGPT"
      ],
      "metadata": {
        "id": "cOOhMWHR0ITF"
      }
    },
    {
      "cell_type": "code",
      "source": [
        "#'xxxx'  # `__Secure-next-auth.session-token` cookie from https://chat.openai.com/chat\n",
        "session_token = '***'\n",
        "api = ChatGPT(session_token)  # auth with session token"
      ],
      "metadata": {
        "id": "TQSR5zW8nMgJ",
        "colab": {
          "base_uri": "https://localhost:8080/"
        },
        "outputId": "705d4ddf-b149-4a3c-e8ac-dad90da07e3f"
      },
      "execution_count": 11,
      "outputs": [
        {
          "output_type": "stream",
          "name": "stderr",
          "text": [
            "WARNING:urllib3.connectionpool:Connection pool is full, discarding connection: localhost. Connection pool size: 1\n",
            "WARNING:urllib3.connectionpool:Connection pool is full, discarding connection: localhost. Connection pool size: 1\n"
          ]
        }
      ]
    },
    {
      "cell_type": "code",
      "source": [
        "#api2 = ChatGPT(email='***', password='***')  # auth with email and password\n",
        "# api3 = ChatGPT(session_token, conversation_id='some-random-uuid')  # specify a conversation id\n",
        "# api4 = ChatGPT(session_token, proxy='http://proxy.example.com:8080')  # specify proxy\n"
      ],
      "metadata": {
        "id": "8p0eX8IPnOHF"
      },
      "execution_count": 4,
      "outputs": []
    },
    {
      "cell_type": "markdown",
      "source": [
        "Write a question to the chat to receive an answer"
      ],
      "metadata": {
        "id": "fZjt0U5U0P1V"
      }
    },
    {
      "cell_type": "code",
      "source": [
        "resp = api.send_message('Write an essay on Nikola Tesla')\n",
        "print(resp['message'])"
      ],
      "metadata": {
        "colab": {
          "base_uri": "https://localhost:8080/"
        },
        "id": "Rp48i5StnZMe",
        "outputId": "27df5071-e5ad-4c04-f979-9bd9f608e3f2"
      },
      "execution_count": 12,
      "outputs": [
        {
          "output_type": "stream",
          "name": "stderr",
          "text": [
            "WARNING:urllib3.connectionpool:Connection pool is full, discarding connection: localhost. Connection pool size: 1\n"
          ]
        },
        {
          "output_type": "stream",
          "name": "stdout",
          "text": [
            "Nikola Tesla was a Serbian-American inventor, electrical engineer, and physicist who is best known for his contributions to the design of the modern alternating current (AC) electricity supply system. Born in 1856 in the Croatian village of Smiljan, Tesla received a formal education in engineering and physics, and he went on to work for a number of companies in Europe and the United States.\n",
            "\n",
            "One of Tesla's most significant contributions was his work on AC electricity. In the late 19th century, the two main contenders for the electrical power distribution system were AC and direct current (DC). AC was more efficient and easier to transmit over long distances, but it was difficult to transform to higher or lower voltages. Tesla's work on AC motors and generators, along with his development of polyphase AC systems, helped to establish AC as the dominant form of electrical power.\n",
            "\n",
            "In addition to his work on AC electricity, Tesla also made significant contributions to wireless communication and radio technology. He developed the Tesla coil, a high-voltage transformer that is still used in radio and television sets today. He also conducted pioneering work on the use of radio waves for the transmission of information and the development of the wireless telegraph.\n",
            "\n",
            "Despite his many achievements, Tesla struggled financially throughout much of his career. He was prone to making grandiose statements and pursuing ambitious projects that often exceeded his resources. He died in 1943, largely forgotten and in debt, but his contributions to science and technology have since been recognized and celebrated. Today, Tesla is remembered as a brilliant and innovative inventor who helped to shape the modern world.\n",
            "\n",
            "\n"
          ]
        }
      ]
    },
    {
      "cell_type": "code",
      "source": [
        "api.reset_conversation()  # reset the conversation\n",
        "api.clear_conversations()  # clear all conversations\n",
        "api.refresh_chat_page()  # refresh the chat page"
      ],
      "metadata": {
        "colab": {
          "base_uri": "https://localhost:8080/"
        },
        "id": "J-MXFz_0vYdx",
        "outputId": "0bb16e37-aacc-4133-a0f7-6d6af81ff863"
      },
      "execution_count": 8,
      "outputs": [
        {
          "output_type": "stream",
          "name": "stderr",
          "text": [
            "WARNING:urllib3.connectionpool:Connection pool is full, discarding connection: localhost. Connection pool size: 1\n"
          ]
        }
      ]
    },
    {
      "cell_type": "code",
      "source": [
        "\n",
        "api.refresh_auth()  # refresh the authorization token\n",
        "api.reset_conversation()  # reset the conversation"
      ],
      "metadata": {
        "id": "TgN9hwsmnBvX",
        "colab": {
          "base_uri": "https://localhost:8080/",
          "height": 184
        },
        "outputId": "650d372d-4567-4614-d549-c936cdd59283"
      },
      "execution_count": 7,
      "outputs": [
        {
          "output_type": "error",
          "ename": "AttributeError",
          "evalue": "ignored",
          "traceback": [
            "\u001b[0;31m---------------------------------------------------------------------------\u001b[0m",
            "\u001b[0;31mAttributeError\u001b[0m                            Traceback (most recent call last)",
            "\u001b[0;32m<ipython-input-7-3e2dff18a5e0>\u001b[0m in \u001b[0;36m<module>\u001b[0;34m\u001b[0m\n\u001b[0;32m----> 1\u001b[0;31m \u001b[0mapi\u001b[0m\u001b[0;34m.\u001b[0m\u001b[0mrefresh_auth\u001b[0m\u001b[0;34m(\u001b[0m\u001b[0;34m)\u001b[0m  \u001b[0;31m# refresh the authorization token\u001b[0m\u001b[0;34m\u001b[0m\u001b[0;34m\u001b[0m\u001b[0m\n\u001b[0m\u001b[1;32m      2\u001b[0m \u001b[0mapi\u001b[0m\u001b[0;34m.\u001b[0m\u001b[0mreset_conversation\u001b[0m\u001b[0;34m(\u001b[0m\u001b[0;34m)\u001b[0m  \u001b[0;31m# reset the conversation\u001b[0m\u001b[0;34m\u001b[0m\u001b[0;34m\u001b[0m\u001b[0m\n",
            "\u001b[0;31mAttributeError\u001b[0m: 'ChatGPT' object has no attribute 'refresh_auth'"
          ]
        }
      ]
    },
    {
      "cell_type": "code",
      "source": [],
      "metadata": {
        "id": "SOTXzENAvTdV"
      },
      "execution_count": null,
      "outputs": []
    }
  ]
}